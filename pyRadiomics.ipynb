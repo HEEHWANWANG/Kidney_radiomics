{
 "cells": [
  {
   "cell_type": "markdown",
   "metadata": {},
   "source": [
    "# Before You Running iPython notebook code \n",
    "\n",
    "If you running ipython notebook with python version 3.7 and install pyradiomics, you could activate two lines importing modules need to run feature extraction.  \n",
    "  \n",
    "However, sklearn version 1.1+, which could be only compatible with python 3.8+, only support \"n_features_to_select='auto'\" option in sklearn.feature_selection.SequentialFeatureSelector.  \n",
    "  \n",
    "Thus, it is highly recommend to deactivate two below lines and skip Feature Extraction stage and perform Featrue Extraction stage with a python script \"feature_extraction.py\""
   ]
  },
  {
   "cell_type": "markdown",
   "metadata": {},
   "source": [
    "# Loading Modules and Functions"
   ]
  },
  {
   "cell_type": "markdown",
   "metadata": {},
   "source": [
    "## Modules"
   ]
  },
  {
   "cell_type": "code",
   "execution_count": 3,
   "metadata": {},
   "outputs": [
    {
     "name": "stderr",
     "output_type": "stream",
     "text": [
      "/opt/homebrew/Caskroom/miniforge/base/envs/pyRadiomics_analysis/lib/python3.10/site-packages/tqdm/auto.py:22: TqdmWarning: IProgress not found. Please update jupyter and ipywidgets. See https://ipywidgets.readthedocs.io/en/stable/user_install.html\n",
      "  from .autonotebook import tqdm as notebook_tqdm\n"
     ]
    }
   ],
   "source": [
    "# basic modules\n",
    "import os\n",
    "import glob \n",
    "import random\n",
    "import copy\n",
    "from tqdm import tqdm \n",
    "from typing import Dict, Tuple\n",
    "\n",
    "# for data processing\n",
    "import numpy as np\n",
    "import pandas as pd\n",
    "\n",
    "# for radiomics features \n",
    "\"\"\"\n",
    "if you running ipython notebook with python version 3.7 and install pyradiomics, you could activate those two lines below. \n",
    "However, sklearn version 1.1+, which could be only compatible with python 3.8+, only support \"n_features_to_select='auto'\" option in sklearn.feature_selection.SequentialFeatureSelector. \n",
    "Thus, it is highly recommend to deactivate two below lines and skip Feature Extraction stage and perform Featrue Extraction stage with a python script \"feature_extraction.py\"\n",
    "\"\"\"\n",
    "#import SimpleITK as sitk   # \n",
    "#from radiomics import featureextractor, getTestCase\n",
    "\n",
    "# for machine learning experiments\n",
    "from sklearn.preprocessing import StandardScaler, MinMaxScaler\n",
    "from sklearn.feature_selection import RFECV, SelectFdr, SelectPercentile ,mutual_info_classif, f_classif\n",
    "from sklearn.feature_selection import SequentialFeatureSelector\n",
    "from sklearn.decomposition import PCA\n",
    "from sklearn.model_selection import StratifiedKFold, cross_validate, cross_val_score\n",
    "from sklearn.metrics import accuracy_score, roc_auc_score, f1_score, confusion_matrix, make_scorer, balanced_accuracy_score\n",
    "from imblearn.over_sampling import * \n",
    "from imblearn.under_sampling import * \n",
    "\n",
    "# machine learning algorithms \n",
    "from xgboost import XGBClassifier\n",
    "from catboost import CatBoostClassifier\n",
    "from sklearn.ensemble import RandomForestClassifier\n",
    "from sklearn import svm\n",
    "\n",
    "# for hyper parameter tuning\n",
    "import optuna\n",
    "from optuna.samplers import TPESampler\n",
    "\n",
    "# for visulaize \n",
    "from sklearn.metrics import RocCurveDisplay, DetCurveDisplay\n",
    "import matplotlib.pyplot as plt\n",
    "%matplotlib inline\n",
    "\n"
   ]
  },
  {
   "cell_type": "markdown",
   "metadata": {},
   "source": [
    "## Custom functions "
   ]
  },
  {
   "cell_type": "markdown",
   "metadata": {},
   "source": [
    "### data preprocessing "
   ]
  },
  {
   "cell_type": "code",
   "execution_count": 13,
   "metadata": {},
   "outputs": [],
   "source": [
    "\n",
    "def get_imgFile_list(nifti_Dir, mask_Dir, CT_phase='P') -> pd.DataFrame:\n",
    "    \"\"\"\n",
    "    getting image files' directories and segmentation mask files' directories according to CT phase\n",
    "    \"\"\"\n",
    "    nifti_subject_list = [] \n",
    "    nifti_img_list = []\n",
    "    mask_subject_list = []\n",
    "    mask_img_list = []\n",
    "\n",
    "    nifti_subject_dir_list = glob.glob(os.path.join(nifti_Dir,'*'))\n",
    "    for i, nifti_subject_dir in enumerate(nifti_subject_dir_list):\n",
    "        subj_nifti_list = glob.glob(os.path.join(nifti_subject_dir, \"*\"))\n",
    "        for subj_nifti in subj_nifti_list: \n",
    "            if os.path.split(subj_nifti)[-1].find('_'+CT_phase) != -1: \n",
    "                # getting subject name \n",
    "                nifti_subject_list.append(os.path.split(os.path.split(subj_nifti)[0])[-1])\n",
    "                # getting specific CT phase image from subject folder \n",
    "                nifti_img_list.append(subj_nifti)\n",
    "    nifti_df = pd.DataFrame({'subjectkey': nifti_subject_list, 'nifti_dir': nifti_img_list})\n",
    "\n",
    "    mask_subject_dir_list = glob.glob(os.path.join(mask_Dir,'*'))\n",
    "    for i, mask_subject_dir in enumerate(mask_subject_dir_list):\n",
    "        subj_mask_list = glob.glob(os.path.join(mask_subject_dir, \"*\"))\n",
    "        for subj_mask in subj_mask_list: \n",
    "            if os.path.split(subj_mask)[-1].find('_'+CT_phase) != -1: \n",
    "                # getting subject name \n",
    "                mask_subject_list.append(os.path.split(os.path.split(subj_mask)[0])[-1])\n",
    "                # getting specific CT phase image from subject folder \n",
    "                mask_img_list.append(subj_mask)\n",
    "    mask_df = pd.DataFrame({'subjectkey': mask_subject_list, 'mask_dir': mask_img_list})\n",
    "\n",
    "    return pd.merge(nifti_df, mask_df, how='inner', on='subjectkey') \n",
    "\n",
    "\n",
    "\n",
    "\n",
    "def loading_datasets(save_Dir, CT_phase: list) -> Dict[str, pd.DataFrame]: \n",
    "    dataset = {}\n",
    "    for i, phase in enumerate(CT_phase): \n",
    "        if i == 0:\n",
    "            dataset_tmp = pd.read_csv(os.path.join(save_Dir, 'radiomics_features_CTphase_'+ phase + '.csv'))\n",
    "            dataset[phase] = dataset_tmp\n",
    "\n",
    "        elif i > 0: \n",
    "            dataset_tmp = pd.read_csv(os.path.join(save_Dir, 'radiomics_features_CTphase_'+ phase + '.csv'))    \n",
    "            dataset[phase] = dataset_tmp\n",
    "\n",
    "\n",
    "    return dataset\n",
    "\n",
    "\n",
    "def assign_train_test_BinaryClassification(meta_data: pd.DataFrame, train_ratio=0.7):\n",
    "    num_total_control = len(meta_data[meta_data['Pathology_binary'] == \"benign\"])\n",
    "    num_total_case = len(meta_data[meta_data['Pathology_binary'] == \"malignancy\"])\n",
    "    num_train_control = int(num_total_control * train_ratio)\n",
    "    num_test_control = num_total_control - num_train_control\n",
    "\n",
    "    num_train_case = int(num_total_case * train_ratio)\n",
    "    num_test_case = num_total_case - num_train_case\n",
    "\n",
    "    train_subject = []\n",
    "    test_subject = []\n",
    "\n",
    "    train_control_count = 0 \n",
    "    train_case_count = 0 \n",
    "    test_control_count = 0\n",
    "    test_case_count = 0  \n",
    "    \n",
    "    assert len(meta_data[meta_data['CT phase'] >= 3]) > len(meta_data[meta_data['CT phase'] < 3])\n",
    "    print(\"Train subjects (case/control): {}/{}. Test subjects (case/control): {}/{}.\".format(num_train_case, num_train_control, num_test_case, num_test_control))\n",
    "    \n",
    "    for i in range(len(meta_data)):\n",
    "        phase_count = meta_data.iloc[i]['CT phase']\n",
    "        # assign subjects having single or 2 phase CT scans only to test set \n",
    "        if phase_count < 3: \n",
    "            if meta_data.iloc[i]['Pathology_binary'] == \"benign\": \n",
    "                if test_control_count <= num_test_control: \n",
    "                    test_subject.append(meta_data.iloc[i]['subjectkey'])\n",
    "                    test_control_count += 1\n",
    "                else:  \n",
    "                    train_subject.append(meta_data.iloc[i]['subjectkey'])\n",
    "                    train_control_count += 1\n",
    "            elif meta_data.iloc[i]['Pathology_binary'] == \"malignancy\": \n",
    "                if test_case_count <= num_test_case: \n",
    "                    test_subject.append(meta_data.iloc[i]['subjectkey'])\n",
    "                    test_case_count += 1\n",
    "                else:  \n",
    "                    train_subject.append(meta_data.iloc[i]['subjectkey'])\n",
    "                    train_case_count += 1\n",
    "        elif phase_count >= 3:\n",
    "            if  meta_data.iloc[i]['Pathology_binary'] == \"benign\":\n",
    "                if train_control_count <= num_train_control: \n",
    "                    train_subject.append(meta_data.iloc[i]['subjectkey'])\n",
    "                    train_control_count += 1\n",
    "                else: \n",
    "                    test_subject.append(meta_data.iloc[i]['subjectkey'])\n",
    "                    test_control_count += 1                     \n",
    "            elif meta_data.iloc[i]['Pathology_binary'] == \"malignancy\": \n",
    "                if train_case_count <= num_train_case: \n",
    "                    train_subject.append(meta_data.iloc[i]['subjectkey'])\n",
    "                    train_case_count += 1 \n",
    "                else: \n",
    "                    test_subject.append(meta_data.iloc[i]['subjectkey'])\n",
    "                    test_case_count += 1                  \n",
    "\n",
    "\n",
    "    return train_subject, test_subject\n",
    "\n",
    "\"\"\"\n",
    "def assign_train_test_BinaryClassification(meta_data: pd.DataFrame, train_ratio=0.7, sampling_method=None):\n",
    "    num_total_control = len(meta_data[meta_data['Pathology_binary'] == \"benign\"])\n",
    "    num_total_case = len(meta_data[meta_data['Pathology_binary'] == \"malignancy\"])\n",
    "    num_train_control = int(num_total_control * train_ratio)\n",
    "    num_test_control = num_total_control - num_train_control\n",
    "    if sampling_method == 'undersampling':\n",
    "        assert int(num_total_case * train_ratio) > num_train_control        # only if (the number of case > the number of train) \n",
    "        assert num_total_case - int(num_total_case * train_ratio) > num_test_control     # only if (the number of case > the number of train) \n",
    "        num_train_case = num_train_control\n",
    "        num_test_case = num_test_control\n",
    "    else:\n",
    "        num_train_case = int(num_total_case * train_ratio)\n",
    "        num_test_case = num_total_case - num_train_case\n",
    "        num_test_case = num_test_control\n",
    "    \n",
    "    print(\"Train subjects (case/control): {}/{}. Test subjects (case/control): {}/{}.\".format(num_train_case, num_train_control, num_test_case, num_test_control))\n",
    "\n",
    "    train_subject = []\n",
    "    test_subject = []\n",
    "\n",
    "    train_control_count = 0 \n",
    "    train_case_count = 0 \n",
    "    test_control_count = 0\n",
    "    test_case_count = 0  \n",
    "    \n",
    "    assert len(meta_data[meta_data['CT phase'] >= 3]) > len(meta_data[meta_data['CT phase'] < 3])\n",
    "\n",
    "    \n",
    "    for i in range(len(meta_data)):\n",
    "        phase_count = meta_data.iloc[i]['CT phase']\n",
    "        # assign subjects having 3 or 4 phase CT scans only to test set \n",
    "        if phase_count >= 3: \n",
    "            if meta_data.iloc[i]['Pathology_binary'] == \"benign\": \n",
    "                if test_control_count <= num_test_control: \n",
    "                    test_subject.append(meta_data.iloc[i]['subjectkey'])\n",
    "                    test_control_count += 1\n",
    "                else:  \n",
    "                    train_subject.append(meta_data.iloc[i]['subjectkey'])\n",
    "                    train_control_count += 1\n",
    "            elif meta_data.iloc[i]['Pathology_binary'] == \"malignancy\": \n",
    "                if test_case_count <= num_test_case: \n",
    "                    test_subject.append(meta_data.iloc[i]['subjectkey'])\n",
    "                    test_case_count += 1\n",
    "                else:  \n",
    "                    train_subject.append(meta_data.iloc[i]['subjectkey'])\n",
    "                    train_case_count += 1\n",
    "        elif phase_count < 3:\n",
    "            if  meta_data.iloc[i]['Pathology_binary'] == \"benign\":\n",
    "                if train_control_count <= num_train_control: \n",
    "                    train_subject.append(meta_data.iloc[i]['subjectkey'])\n",
    "                    train_control_count += 1\n",
    "                else: \n",
    "                    test_subject.append(meta_data.iloc[i]['subjectkey'])\n",
    "                    test_control_count += 1                     \n",
    "            elif meta_data.iloc[i]['Pathology_binary'] == \"malignancy\": \n",
    "                if train_case_count <= num_train_case: \n",
    "                    train_subject.append(meta_data.iloc[i]['subjectkey'])\n",
    "                    train_case_count += 1 \n",
    "                else: \n",
    "                    test_subject.append(meta_data.iloc[i]['subjectkey'])\n",
    "                    test_case_count += 1                  \n",
    "\n",
    "\n",
    "    return train_subject, test_subject\n",
    "\"\"\"\n",
    "\n",
    "\n",
    "def preparing_dataset(meta_data, dataset, train_subject_list, test_subject_list): \n",
    "    meta_data = meta_data[['subjectkey', 'Pathology_binary']]\n",
    "\n",
    "    train_X, train_y = [], []\n",
    "    test_X, test_y = [], []\n",
    "    for phase in dataset.keys(): \n",
    "        #print(dataset[phase])\n",
    "        dataset_tmp = pd.merge(meta_data, dataset[phase], on='subjectkey', how='inner')\n",
    "\n",
    "        dataset_train = dataset_tmp.loc[dataset_tmp['subjectkey'].isin(train_subject_list)]     # fet radiomics features of train subjects\n",
    "        features_train = dataset_train.drop(['subjectkey', 'Pathology_binary'], axis=1).values       # get radiomics features of train subjects as numpy array \n",
    "        train_X.append(features_train)\n",
    "        labels_train = dataset_train['Pathology_binary'].values       # get labels of train subjects as numpy array \n",
    "        labels_train = np.where(labels_train == 'benign', 0, 1)       # change label \"benign\" to 0 and \"malignancy\" to 1 \n",
    "        train_y.append(np.expand_dims(labels_train, axis=-1))\n",
    "        \n",
    "        dataset_test = dataset_tmp.loc[dataset_tmp['subjectkey'].isin(test_subject_list)]     # fet radiomics features of test subjects\n",
    "        features_test = dataset_test.drop(['subjectkey', 'Pathology_binary'], axis=1).values       # get radiomics features of test subjects as numpy array\n",
    "        test_X.append(features_test)\n",
    "        labels_test = dataset_test['Pathology_binary'].values       # get labels of train subjects as numpy array \n",
    "        labels_test = np.where(labels_test == 'benign', 0, 1)       # change label \"benign\" to 0 and \"malignancy\" to 1  \n",
    "        test_y.append(np.expand_dims(labels_test, axis=-1))\n",
    "    \n",
    "    train_X, train_y = np.vstack(train_X), np.vstack(train_y)\n",
    "    test_X, test_y = np.vstack(test_X), np.vstack(test_y)\n",
    "\n",
    "    return train_X, train_y, test_X, test_y \n",
    "\n",
    "\n",
    "\n",
    "\n",
    "\n"
   ]
  },
  {
   "cell_type": "markdown",
   "metadata": {},
   "source": [
    "### radiomics feature extraction"
   ]
  },
  {
   "cell_type": "code",
   "execution_count": 7,
   "metadata": {},
   "outputs": [],
   "source": [
    "def make_result_table(subjectkey, result) -> pd.DataFrame:\n",
    "    \"\"\"\n",
    "    summarizing the results from feature extractor as pandas dataframe\n",
    "    \"\"\"\n",
    "    column_names = ['subjectkey']\n",
    "    values = [subjectkey]\n",
    "    for key, val in six.iteritems(result):\n",
    "        if key.find('diagnostics') != -1: \n",
    "            pass\n",
    "        else:\n",
    "            column_names.append(key)\n",
    "            values.append([val])\n",
    "    df = pd.DataFrame([values], columns=column_names)\n",
    "    return df \n",
    "\n",
    "\n",
    "def feature_extract_engine(param_config_Dir, nifti_Dir, mask_Dir, CT_phase):\n",
    "    \"\"\"\n",
    "    An engine modlue consists of \n",
    "    1)getting image and mask files directories, \n",
    "    2)feature extracting, \n",
    "    3)summarizing results from feature extracting\n",
    "    \"\"\"\n",
    "\n",
    "    # Instantiate feature extractor class with parameters cofiguration file\n",
    "    extractor = featureextractor.RadiomicsFeatureExtractor(param_config_Dir)\n",
    "\n",
    "    # getting subjects' CT image and mask image if only both type of images are exist\n",
    "    nifti_mask_df: pd.DataFrame = get_imgFile_list(nifti_Dir, mask_Dir, CT_phase=CT_phase)\n",
    "\n",
    "    for i in tqdm(range(len(nifti_mask_df))):\n",
    "        subj_nifti = nifti_mask_df['nifti_dir'].values[i]\n",
    "        subj_mask = nifti_mask_df['mask_dir'].values[i]\n",
    "        \n",
    "        # extracting features\n",
    "        result = extractor.execute(subj_nifti, subj_mask)\n",
    "\n",
    "        # summarize result\n",
    "        result_df = pd.DataFrame()\n",
    "        result_df_tmp = make_result_table(subjectkey=nifti_mask_df['subjectkey'].values[i], result=result)\n",
    "        result_df = pd.concat([result_df, result_df_tmp], axis=0)\n",
    "            \n",
    "\n",
    "    result_df = result_df.reset_index(drop=True)\n",
    "    return result_df"
   ]
  },
  {
   "cell_type": "markdown",
   "metadata": {},
   "source": [
    "### machine learning experiments"
   ]
  },
  {
   "cell_type": "code",
   "execution_count": 8,
   "metadata": {},
   "outputs": [],
   "source": [
    "def selecting_scaler(scaling_method): \n",
    "    if scaling_method == 'normalization': \n",
    "        scaler = StandardScaler()\n",
    "    elif scaling_method == 'standardization':\n",
    "        scaler = MinMaxScaler()\n",
    "    return scaler\n",
    "\n",
    "\n",
    "def case_control_count(train_y, test_y): \n",
    "    test_case = test_y.squeeze(-1).tolist().count(1)\n",
    "    test_control = test_y.squeeze(-1).tolist().count(0)\n",
    "    train_case = train_y.squeeze(-1).tolist().count(1)\n",
    "    train_control = train_y.squeeze(-1).tolist().count(0)\n",
    "    print(\"Train (case/control): {}/{}. Test (case/control): {}/{}.\".format(train_case, train_control, test_case, test_control))\n",
    "\n",
    "\n",
    "def custom_scorer(y_true, y_pred):\n",
    "    tn, fp, fn, tp  = confusion_matrix(y_true, y_pred).ravel()\n",
    "    sensitivity = (tp / (tp + fn))\n",
    "    specificity = (tn / (tn + fp))\n",
    "    return specificity\n",
    "\n",
    "\n",
    "\n",
    "\n",
    "\n",
    "def sampling_and_CrossValidation(train_X, train_y, model, cv, sampling_method, scoring, seed): \n",
    "    scores = []\n",
    "    if sampling_method == 'oversampling': \n",
    "        for train, val in cv.split(train_X, train_y):\n",
    "            X_samp , y_samp = SMOTE(random_state=seed).fit_resample(train_X[train], train_y[train])\n",
    "            model.fit(X_samp , y_samp)\n",
    "            if scoring == 'roc_auc':\n",
    "                pred_proba = model.predict_proba(train_X[val])\n",
    "                scores.append(roc_auc_score(train_y[val], pred_proba[:,1]))\n",
    "            elif scoring == 'specificity': \n",
    "                pred = model.predict(train_X[val])\n",
    "                scores.append(custom_scorer(train_y[val], pred))\n",
    "        \n",
    "    elif sampling_method == 'undersampling': \n",
    "        for train, val in cv.split(train_X, train_y):\n",
    "            X_samp , y_samp = ClusterCentroids(random_state=seed).fit_resample(train_X[train], train_y[train])\n",
    "            model.fit(X_samp , y_samp)\n",
    "            if scoring == 'roc_auc':\n",
    "                pred_proba = model.predict_proba(train_X[val])\n",
    "                scores.append(roc_auc_score(train_y[val], pred_proba[:,1]))\n",
    "            elif scoring == 'specificity': \n",
    "                pred = model.predict(train_X[val])\n",
    "                scores.append(custom_scorer(train_y[val], pred))\n",
    "    return np.array(scores)\n",
    "\n",
    "\n",
    "def hyperparameter_tuning_selection(trial: optuna.trial.Trial, train_X, train_y, model_name='XGBoost', cv=None, min_features_to_select=1, sampling_method=None,scoring='roc_auc',seed=1234):\n",
    "    if model_name == 'XGBoost':\n",
    "        model = get_XGBoost(trial, seed)\n",
    "    elif model_name == 'CatBoost': \n",
    "        model = get_CatBoost(trial, seed)\n",
    "    elif model_name == 'RandomForest': \n",
    "        model = get_RandomForest(trial, seed)\n",
    "    elif model_name == 'SVM': \n",
    "        model = get_SVM(trial, seed)\n",
    "\n",
    "    sfs = SequentialFeatureSelector(model, n_features_to_select='auto', direction='backward', tol=10, n_jobs=-1)\n",
    "    train_X_selected2 = sfs.fit_transform(train_X, train_y)\n",
    "    \n",
    "    if sampling_method:\n",
    "        scores = sampling_and_CrossValidation(train_X_selected2, train_y, model, cv, sampling_method, scoring, seed)\n",
    "        return scores.mean() \n",
    "    else:\n",
    "        if scoring == 'roc_auc':\n",
    "            scores = cross_val_score(model, train_X_selected2, train_y, cv=cv, scoring='roc_auc')\n",
    "        elif scoring == 'balanced_accuracy': \n",
    "            scores = cross_val_score(model, train_X_selected2, train_y, cv=cv, scoring='balanced_accuracy')\n",
    "        elif scoring == 'specificity': \n",
    "            scores = cross_val_score(model, train_X_selected2, train_y, cv=cv, scoring=make_scorer(custom_scorer))\n",
    "        return scores.mean()\n",
    "\n",
    "\n",
    "def selecting_best_model(result: dict): \n",
    "    assert 'estimator' in result.keys()\n",
    "    best_model = result['estimator'][np.argmax(result['test_score'])]\n",
    "    return best_model\n",
    "\n",
    "\n",
    "def getting_test_result(estimator, test_X, test_y, threshold=0.8):\n",
    "    pred = estimator.predict(test_X)\n",
    "    pred_proba = estimator.predict_proba(test_X)\n",
    "    pred_diff_threshold = (pred_proba[:, 1] >= threshold).astype(int)\n",
    "\n",
    "    ACC = accuracy_score(test_y, pred)\n",
    "    balanced_ACC = balanced_accuracy_score(test_y, pred)\n",
    "    AUC = roc_auc_score(test_y, pred_proba[:, 1])\n",
    "    F1 = f1_score(test_y, pred)\n",
    "\n",
    "    tn, fp, fn, tp  = confusion_matrix(test_y, pred_diff_threshold).ravel()\n",
    "    sensitivity = (tp / (tp + fn))\n",
    "    specificity = (tn / (tn + fp))\n",
    "    precision  = (tp / (tp + fp))\n",
    "    return ACC, balanced_ACC, AUC, F1, sensitivity, specificity, precision\n",
    "\n",
    "\n",
    "def get_best_model(result_summary, estimator, best_model_metric): \n",
    "    best_model_idx = np.argmax(result_summary[best_model_metric])\n",
    "    return estimator[best_model_idx] "
   ]
  },
  {
   "cell_type": "markdown",
   "metadata": {},
   "source": [
    "### machine learning algorithms \n"
   ]
  },
  {
   "cell_type": "code",
   "execution_count": 9,
   "metadata": {},
   "outputs": [],
   "source": [
    "def get_XGBoost(trial, seed): \n",
    "    optuna_param = {\n",
    "        \"n_estimators\": trial.suggest_int('n_estimators', 1, 100),\n",
    "        \"max_depth\": trial.suggest_int('max_depth', 3, 12),\n",
    "        'gamma': trial.suggest_float('gamma', 0.01, 20),\n",
    "        'learning_rate': 0.01,\n",
    "        'colsample_bytree': trial.suggest_discrete_uniform('colsample_bytree', 0.5, 1, 0.1),\n",
    "        'lambda': trial.suggest_loguniform('lambda', 1e-3, 10.0),\n",
    "        'alpha': trial.suggest_loguniform('alpha', 1e-3, 10.0),\n",
    "        'subsample': trial.suggest_categorical('subsample', [0.6, 0.7, 0.8, 1.0]),\n",
    "        'random_state': seed\n",
    "    }  \n",
    "    model = XGBClassifier(**optuna_param)\n",
    "    return  model\n",
    "\n",
    "\n",
    "def get_CatBoost(trial, seed): \n",
    "    optuna_param = {\n",
    "        \"iterations\": trial.suggest_int('n_estimators', 1, 100),\n",
    "        \"max_depth\": trial.suggest_int('max_depth', 3, 16),\n",
    "        'learning_rate': 0.1,\n",
    "        'verbose': True, \n",
    "        'random_state': seed\n",
    "    }  \n",
    "    model = CatBoostClassifier(**optuna_param)\n",
    "    return model \n",
    "\n",
    "def get_RandomForest(trial, seed):\n",
    "    optuna_param = {\n",
    "        \"n_estimators\": trial.suggest_int('n_estimators', 1, 100),\n",
    "        \"max_depth\": trial.suggest_int('max_depth', 3, 16),\n",
    "        \"n_jobs\": -1,\n",
    "        \"class_weight\": \"balanced\",\n",
    "        'max_samples': trial.suggest_categorical('max_samples', [0.6, 0.7, 0.8, 1.0]),\n",
    "        'random_state': seed\n",
    "    }  \n",
    "    model = RandomForestClassifier(**optuna_param)\n",
    "    return model\n",
    "\n",
    "\n",
    "def get_SVM(trial, seed): \n",
    "    optuna_param = {\n",
    "        \"C\": trial.suggest_float('C', 0.1, 100),\n",
    "        'gamma': trial.suggest_float('gamma', 0.01, 20),\n",
    "        \"class_weight\": \"balanced\",\n",
    "        \"probability\": True,\n",
    "        'random_state': seed\n",
    "    }  \n",
    "    model = svm.SVC(**optuna_param)\n",
    "    return model\n"
   ]
  },
  {
   "cell_type": "markdown",
   "metadata": {},
   "source": [
    "### utils "
   ]
  },
  {
   "cell_type": "code",
   "execution_count": 10,
   "metadata": {},
   "outputs": [],
   "source": [
    "def make_dir(dir): \n",
    "    if os.path.exists(dir) == False: \n",
    "        os.mkdir(dir)"
   ]
  },
  {
   "cell_type": "markdown",
   "metadata": {},
   "source": [
    "# Feature Extraction"
   ]
  },
  {
   "cell_type": "markdown",
   "metadata": {},
   "source": [
    "It is highly recommend to perform this step with python scripts.  \n",
    "In other words, using **feature_extraction.py**.  \n",
    "For example, \n",
    "```\n",
    "$python3 feature_extraction.py\n",
    "```  \n",
    "It's because ipython note book do not support multiprocess which could dramatically speed up feature extraction process.  \n",
    "Please read **Readme.md** if you want to get more detailed information."
   ]
  },
  {
   "cell_type": "code",
   "execution_count": 11,
   "metadata": {},
   "outputs": [
    {
     "name": "stdout",
     "output_type": "stream",
     "text": [
      "=> Starting Feature Extraction Stage\n"
     ]
    },
    {
     "ename": "NameError",
     "evalue": "name 'featureextractor' is not defined",
     "output_type": "error",
     "traceback": [
      "\u001b[0;31m---------------------------------------------------------------------------\u001b[0m",
      "\u001b[0;31mNameError\u001b[0m                                 Traceback (most recent call last)",
      "Cell \u001b[0;32mIn[11], line 13\u001b[0m\n\u001b[1;32m     10\u001b[0m \u001b[38;5;28;01mfor\u001b[39;00m phase \u001b[38;5;129;01min\u001b[39;00m CT_phase: \n\u001b[1;32m     11\u001b[0m     \u001b[38;5;66;03m# feature extracting and save \"raw\" results from feature extractor\u001b[39;00m\n\u001b[1;32m     12\u001b[0m     \u001b[38;5;28mprint\u001b[39m(\u001b[38;5;124m'\u001b[39m\u001b[38;5;124m=> Starting Feature Extraction Stage\u001b[39m\u001b[38;5;124m'\u001b[39m)\n\u001b[0;32m---> 13\u001b[0m     result_df: pd\u001b[38;5;241m.\u001b[39mDataFrame \u001b[38;5;241m=\u001b[39m \u001b[43mfeature_extract_engine\u001b[49m\u001b[43m(\u001b[49m\u001b[43mparam_config_Dir\u001b[49m\u001b[38;5;241;43m=\u001b[39;49m\u001b[43mparam_config\u001b[49m\u001b[43m,\u001b[49m\u001b[43m \u001b[49m\u001b[43mnifti_Dir\u001b[49m\u001b[38;5;241;43m=\u001b[39;49m\u001b[43mnifti_Dir\u001b[49m\u001b[43m,\u001b[49m\u001b[43m \u001b[49m\u001b[43mmask_Dir\u001b[49m\u001b[38;5;241;43m=\u001b[39;49m\u001b[43mmask_Dir\u001b[49m\u001b[43m,\u001b[49m\u001b[43m \u001b[49m\u001b[43mCT_phase\u001b[49m\u001b[38;5;241;43m=\u001b[39;49m\u001b[43mphase\u001b[49m\u001b[43m)\u001b[49m\n\u001b[1;32m     14\u001b[0m     \u001b[38;5;28mprint\u001b[39m(\u001b[38;5;124m'\u001b[39m\u001b[38;5;124m=> Done Feature Extraction Stage\u001b[39m\u001b[38;5;124m'\u001b[39m)\n\u001b[1;32m     15\u001b[0m     save_result_dir \u001b[38;5;241m=\u001b[39m os\u001b[38;5;241m.\u001b[39mpath\u001b[38;5;241m.\u001b[39mjoin(save_Dir, \u001b[38;5;124m'\u001b[39m\u001b[38;5;124mradiomics_features_CTphase_\u001b[39m\u001b[38;5;124m'\u001b[39m\u001b[38;5;241m+\u001b[39mphase\u001b[38;5;241m+\u001b[39m\u001b[38;5;124m'\u001b[39m\u001b[38;5;124m.csv\u001b[39m\u001b[38;5;124m'\u001b[39m)\n",
      "Cell \u001b[0;32mIn[7], line 26\u001b[0m, in \u001b[0;36mfeature_extract_engine\u001b[0;34m(param_config_Dir, nifti_Dir, mask_Dir, CT_phase)\u001b[0m\n\u001b[1;32m     18\u001b[0m \u001b[38;5;250m\u001b[39m\u001b[38;5;124;03m\"\"\"\u001b[39;00m\n\u001b[1;32m     19\u001b[0m \u001b[38;5;124;03mAn engine modlue consists of \u001b[39;00m\n\u001b[1;32m     20\u001b[0m \u001b[38;5;124;03m1)getting image and mask files directories, \u001b[39;00m\n\u001b[1;32m     21\u001b[0m \u001b[38;5;124;03m2)feature extracting, \u001b[39;00m\n\u001b[1;32m     22\u001b[0m \u001b[38;5;124;03m3)summarizing results from feature extracting\u001b[39;00m\n\u001b[1;32m     23\u001b[0m \u001b[38;5;124;03m\"\"\"\u001b[39;00m\n\u001b[1;32m     25\u001b[0m \u001b[38;5;66;03m# Instantiate feature extractor class with parameters cofiguration file\u001b[39;00m\n\u001b[0;32m---> 26\u001b[0m extractor \u001b[38;5;241m=\u001b[39m \u001b[43mfeatureextractor\u001b[49m\u001b[38;5;241m.\u001b[39mRadiomicsFeatureExtractor(param_config_Dir)\n\u001b[1;32m     28\u001b[0m \u001b[38;5;66;03m# getting subjects' CT image and mask image if only both type of images are exist\u001b[39;00m\n\u001b[1;32m     29\u001b[0m nifti_mask_df: pd\u001b[38;5;241m.\u001b[39mDataFrame \u001b[38;5;241m=\u001b[39m get_imgFile_list(nifti_Dir, mask_Dir, CT_phase\u001b[38;5;241m=\u001b[39mCT_phase)\n",
      "\u001b[0;31mNameError\u001b[0m: name 'featureextractor' is not defined"
     ]
    }
   ],
   "source": [
    "param_config = '/Users/wangheehwan/Desktop/kidney_radiomics/pipeline/params/Params2.yaml'\n",
    "nifti_Dir = \"/Users/wangheehwan/Desktop/kidney_radiomics/NifTi\"\n",
    "mask_Dir = \"/Users/wangheehwan/Desktop/kidney_radiomics/Segmentation\"\n",
    "save_Dir = '/Users/wangheehwan/Desktop/kidney_radiomics/pipeline/result'\n",
    "\n",
    "CT_phase = ['A', 'N', 'D', 'P']\n",
    "\n",
    "make_dir(save_Dir)\n",
    "\n",
    "for phase in CT_phase: \n",
    "    # feature extracting and save \"raw\" results from feature extractor\n",
    "    print('=> Starting Feature Extraction Stage')\n",
    "    result_df: pd.DataFrame = feature_extract_engine(param_config_Dir=param_config, nifti_Dir=nifti_Dir, mask_Dir=mask_Dir, CT_phase=phase)\n",
    "    print('=> Done Feature Extraction Stage')\n",
    "    save_result_dir = os.path.join(save_Dir, 'radiomics_features_CTphase_'+phase+'.csv')\n",
    "    result_df.to_csv(save_result_dir, index=False)\n",
    "    print(\"=> The Result from Feature Extraction Stage is Saved as '{}' \".format(save_result_dir)) "
   ]
  },
  {
   "cell_type": "markdown",
   "metadata": {},
   "source": [
    "# Split Dataset "
   ]
  },
  {
   "cell_type": "code",
   "execution_count": 14,
   "metadata": {},
   "outputs": [
    {
     "name": "stdout",
     "output_type": "stream",
     "text": [
      "Train subjects (case/control): 298/100. Test subjects (case/control): 75/26.\n",
      "Train (case/control): 1002/330. Test (case/control): 143/43.\n"
     ]
    }
   ],
   "source": [
    "CT_phase = ['A', 'N', 'D', 'P']\n",
    "save_Dir = '/Users/wangheehwan/Desktop/kidney_radiomics/pipeline/result'\n",
    "meta_data_Dir = \"/Users/wangheehwan/Desktop/kidney_radiomics/meta_data.csv\"\n",
    "meta_data = pd.read_csv(meta_data_Dir)\n",
    "\n",
    "# preparing dataset\n",
    "dataset = loading_datasets(save_Dir=save_Dir, CT_phase=CT_phase)\n",
    "train_subject_list, test_subject_list = assign_train_test_BinaryClassification(meta_data=meta_data, train_ratio=0.8)\n",
    "train_X, train_y, test_X, test_y  = preparing_dataset(meta_data=meta_data, dataset=dataset, train_subject_list=train_subject_list, test_subject_list=test_subject_list)\n",
    "case_control_count(train_y, test_y)"
   ]
  },
  {
   "cell_type": "markdown",
   "metadata": {},
   "source": [
    "# Experiments "
   ]
  },
  {
   "cell_type": "markdown",
   "metadata": {},
   "source": [
    "## setting parameters for experiments"
   ]
  },
  {
   "cell_type": "code",
   "execution_count": 15,
   "metadata": {},
   "outputs": [],
   "source": [
    "seed =1234\n",
    "n_process = 6\n",
    "sampling_method = 'oversampling'   # options = ['oversampling', 'undersampling', None]\n",
    "model_name = 'XGBoost'\n",
    "scaling_method = 'normalization'\n",
    "scoring = 'roc_auc'\n",
    "num_cv = 10\n",
    "ratio_of_num_PC = 0.3\n",
    "optuna_trials = 100\n",
    "best_model_metric = 'ACC'\n",
    "\n",
    "# select scaler\n",
    "scaler = selecting_scaler(scaling_method=scaling_method)\n",
    "# select a method for K fold cv\n",
    "cv = StratifiedKFold(num_cv, shuffle=True, random_state=seed)"
   ]
  },
  {
   "cell_type": "markdown",
   "metadata": {},
   "source": [
    "## Feature Selection 1 "
   ]
  },
  {
   "cell_type": "code",
   "execution_count": 16,
   "metadata": {},
   "outputs": [
    {
     "name": "stderr",
     "output_type": "stream",
     "text": [
      "/opt/homebrew/Caskroom/miniforge/base/envs/pyRadiomics_analysis/lib/python3.10/site-packages/sklearn/utils/validation.py:1143: DataConversionWarning: A column-vector y was passed when a 1d array was expected. Please change the shape of y to (n_samples, ), for example using ravel().\n",
      "  y = column_or_1d(y, warn=True)\n"
     ]
    }
   ],
   "source": [
    "X = np.concatenate([train_X, test_X], axis=0) \n",
    "y = np.concatenate([train_y, test_y], axis=0)\n",
    "\n",
    "# rescaling for initial feature selection \n",
    "scaler = selecting_scaler(scaling_method=scaling_method)\n",
    "X_rescaled = scaler.fit_transform(X)\n",
    "selector = SelectFdr(f_classif)\n",
    "selector.fit(X_rescaled, y)\n",
    "train_X_selected, test_X_selected = selector.transform(train_X), selector.transform(test_X)"
   ]
  },
  {
   "cell_type": "markdown",
   "metadata": {},
   "source": [
    "## Dimension Reduction & Rescaling (a.k.a PCA whitening)"
   ]
  },
  {
   "cell_type": "code",
   "execution_count": 17,
   "metadata": {},
   "outputs": [],
   "source": [
    "pca = PCA(n_components=int(ratio_of_num_PC * (train_X_selected.shape[1])), whiten=True)\n",
    "pca.fit(train_X_selected)\n",
    "train_X_rescaled_selected1 = pca.transform(train_X_selected)\n",
    "test_X_rescaled_selected1 = pca.transform(test_X_selected)"
   ]
  },
  {
   "cell_type": "markdown",
   "metadata": {},
   "source": [
    "## Feature Selection 2 & Model Selection via Hyperparameter Tuning (with optuna)"
   ]
  },
  {
   "cell_type": "code",
   "execution_count": 18,
   "metadata": {},
   "outputs": [
    {
     "name": "stderr",
     "output_type": "stream",
     "text": [
      "\u001b[32m[I 2023-02-22 15:07:38,094]\u001b[0m A new study created in memory with name: no-name-71a498ec-1d63-4df6-89de-687441c88379\u001b[0m\n",
      "/var/folders/_6/fts0bv3j7jjb0263g94q1lbw0000gn/T/ipykernel_4466/937223910.py:7: FutureWarning: suggest_discrete_uniform has been deprecated in v3.0.0. This feature will be removed in v6.0.0. See https://github.com/optuna/optuna/releases/tag/v3.0.0. Use :func:`~optuna.trial.Trial.suggest_float` instead.\n",
      "  'colsample_bytree': trial.suggest_discrete_uniform('colsample_bytree', 0.5, 1, 0.1),\n",
      "/var/folders/_6/fts0bv3j7jjb0263g94q1lbw0000gn/T/ipykernel_4466/937223910.py:8: FutureWarning: suggest_loguniform has been deprecated in v3.0.0. This feature will be removed in v6.0.0. See https://github.com/optuna/optuna/releases/tag/v3.0.0. Use :func:`~optuna.trial.Trial.suggest_float` instead.\n",
      "  'lambda': trial.suggest_loguniform('lambda', 1e-3, 10.0),\n",
      "/var/folders/_6/fts0bv3j7jjb0263g94q1lbw0000gn/T/ipykernel_4466/937223910.py:9: FutureWarning: suggest_loguniform has been deprecated in v3.0.0. This feature will be removed in v6.0.0. See https://github.com/optuna/optuna/releases/tag/v3.0.0. Use :func:`~optuna.trial.Trial.suggest_float` instead.\n",
      "  'alpha': trial.suggest_loguniform('alpha', 1e-3, 10.0),\n",
      "\u001b[32m[I 2023-02-22 15:17:54,987]\u001b[0m Trial 0 finished with value: 0.7372178217821783 and parameters: {'n_estimators': 65, 'max_depth': 5, 'gamma': 1.3125734604760975, 'colsample_bytree': 0.8, 'lambda': 9.901730132832792, 'alpha': 5.076977042346679, 'subsample': 0.6}. Best is trial 0 with value: 0.7372178217821783.\u001b[0m\n",
      "/var/folders/_6/fts0bv3j7jjb0263g94q1lbw0000gn/T/ipykernel_4466/937223910.py:7: FutureWarning: suggest_discrete_uniform has been deprecated in v3.0.0. This feature will be removed in v6.0.0. See https://github.com/optuna/optuna/releases/tag/v3.0.0. Use :func:`~optuna.trial.Trial.suggest_float` instead.\n",
      "  'colsample_bytree': trial.suggest_discrete_uniform('colsample_bytree', 0.5, 1, 0.1),\n",
      "/var/folders/_6/fts0bv3j7jjb0263g94q1lbw0000gn/T/ipykernel_4466/937223910.py:8: FutureWarning: suggest_loguniform has been deprecated in v3.0.0. This feature will be removed in v6.0.0. See https://github.com/optuna/optuna/releases/tag/v3.0.0. Use :func:`~optuna.trial.Trial.suggest_float` instead.\n",
      "  'lambda': trial.suggest_loguniform('lambda', 1e-3, 10.0),\n",
      "/var/folders/_6/fts0bv3j7jjb0263g94q1lbw0000gn/T/ipykernel_4466/937223910.py:9: FutureWarning: suggest_loguniform has been deprecated in v3.0.0. This feature will be removed in v6.0.0. See https://github.com/optuna/optuna/releases/tag/v3.0.0. Use :func:`~optuna.trial.Trial.suggest_float` instead.\n",
      "  'alpha': trial.suggest_loguniform('alpha', 1e-3, 10.0),\n",
      "\u001b[32m[I 2023-02-22 15:30:17,101]\u001b[0m Trial 1 finished with value: 0.7170261026102611 and parameters: {'n_estimators': 89, 'max_depth': 6, 'gamma': 19.49679648639314, 'colsample_bytree': 0.5, 'lambda': 6.958181812232047, 'alpha': 0.1410935940942851, 'subsample': 1.0}. Best is trial 0 with value: 0.7372178217821783.\u001b[0m\n",
      "/var/folders/_6/fts0bv3j7jjb0263g94q1lbw0000gn/T/ipykernel_4466/937223910.py:7: FutureWarning: suggest_discrete_uniform has been deprecated in v3.0.0. This feature will be removed in v6.0.0. See https://github.com/optuna/optuna/releases/tag/v3.0.0. Use :func:`~optuna.trial.Trial.suggest_float` instead.\n",
      "  'colsample_bytree': trial.suggest_discrete_uniform('colsample_bytree', 0.5, 1, 0.1),\n",
      "/var/folders/_6/fts0bv3j7jjb0263g94q1lbw0000gn/T/ipykernel_4466/937223910.py:8: FutureWarning: suggest_loguniform has been deprecated in v3.0.0. This feature will be removed in v6.0.0. See https://github.com/optuna/optuna/releases/tag/v3.0.0. Use :func:`~optuna.trial.Trial.suggest_float` instead.\n",
      "  'lambda': trial.suggest_loguniform('lambda', 1e-3, 10.0),\n",
      "/var/folders/_6/fts0bv3j7jjb0263g94q1lbw0000gn/T/ipykernel_4466/937223910.py:9: FutureWarning: suggest_loguniform has been deprecated in v3.0.0. This feature will be removed in v6.0.0. See https://github.com/optuna/optuna/releases/tag/v3.0.0. Use :func:`~optuna.trial.Trial.suggest_float` instead.\n",
      "  'alpha': trial.suggest_loguniform('alpha', 1e-3, 10.0),\n",
      "\u001b[32m[I 2023-02-22 15:34:39,233]\u001b[0m Trial 2 finished with value: 0.7088387338733874 and parameters: {'n_estimators': 22, 'max_depth': 5, 'gamma': 16.214027886523652, 'colsample_bytree': 0.8, 'lambda': 9.211262232417718, 'alpha': 0.15466388718480525, 'subsample': 0.7}. Best is trial 0 with value: 0.7372178217821783.\u001b[0m\n",
      "/var/folders/_6/fts0bv3j7jjb0263g94q1lbw0000gn/T/ipykernel_4466/937223910.py:7: FutureWarning: suggest_discrete_uniform has been deprecated in v3.0.0. This feature will be removed in v6.0.0. See https://github.com/optuna/optuna/releases/tag/v3.0.0. Use :func:`~optuna.trial.Trial.suggest_float` instead.\n",
      "  'colsample_bytree': trial.suggest_discrete_uniform('colsample_bytree', 0.5, 1, 0.1),\n",
      "/var/folders/_6/fts0bv3j7jjb0263g94q1lbw0000gn/T/ipykernel_4466/937223910.py:8: FutureWarning: suggest_loguniform has been deprecated in v3.0.0. This feature will be removed in v6.0.0. See https://github.com/optuna/optuna/releases/tag/v3.0.0. Use :func:`~optuna.trial.Trial.suggest_float` instead.\n",
      "  'lambda': trial.suggest_loguniform('lambda', 1e-3, 10.0),\n",
      "/var/folders/_6/fts0bv3j7jjb0263g94q1lbw0000gn/T/ipykernel_4466/937223910.py:9: FutureWarning: suggest_loguniform has been deprecated in v3.0.0. This feature will be removed in v6.0.0. See https://github.com/optuna/optuna/releases/tag/v3.0.0. Use :func:`~optuna.trial.Trial.suggest_float` instead.\n",
      "  'alpha': trial.suggest_loguniform('alpha', 1e-3, 10.0),\n",
      "\u001b[32m[I 2023-02-22 15:53:49,409]\u001b[0m Trial 3 finished with value: 0.7345166516651666 and parameters: {'n_estimators': 90, 'max_depth': 9, 'gamma': 16.356896504968102, 'colsample_bytree': 0.6, 'lambda': 0.013932975632386883, 'alpha': 4.154667509634089, 'subsample': 0.8}. Best is trial 0 with value: 0.7372178217821783.\u001b[0m\n",
      "/var/folders/_6/fts0bv3j7jjb0263g94q1lbw0000gn/T/ipykernel_4466/937223910.py:7: FutureWarning: suggest_discrete_uniform has been deprecated in v3.0.0. This feature will be removed in v6.0.0. See https://github.com/optuna/optuna/releases/tag/v3.0.0. Use :func:`~optuna.trial.Trial.suggest_float` instead.\n",
      "  'colsample_bytree': trial.suggest_discrete_uniform('colsample_bytree', 0.5, 1, 0.1),\n",
      "/var/folders/_6/fts0bv3j7jjb0263g94q1lbw0000gn/T/ipykernel_4466/937223910.py:8: FutureWarning: suggest_loguniform has been deprecated in v3.0.0. This feature will be removed in v6.0.0. See https://github.com/optuna/optuna/releases/tag/v3.0.0. Use :func:`~optuna.trial.Trial.suggest_float` instead.\n",
      "  'lambda': trial.suggest_loguniform('lambda', 1e-3, 10.0),\n",
      "/var/folders/_6/fts0bv3j7jjb0263g94q1lbw0000gn/T/ipykernel_4466/937223910.py:9: FutureWarning: suggest_loguniform has been deprecated in v3.0.0. This feature will be removed in v6.0.0. See https://github.com/optuna/optuna/releases/tag/v3.0.0. Use :func:`~optuna.trial.Trial.suggest_float` instead.\n",
      "  'alpha': trial.suggest_loguniform('alpha', 1e-3, 10.0),\n",
      "\u001b[32m[I 2023-02-22 16:03:46,005]\u001b[0m Trial 4 finished with value: 0.7500556555655565 and parameters: {'n_estimators': 72, 'max_depth': 4, 'gamma': 3.1858618021817193, 'colsample_bytree': 0.7, 'lambda': 1.6002047275343232, 'alpha': 0.9525315913111495, 'subsample': 0.7}. Best is trial 4 with value: 0.7500556555655565.\u001b[0m\n",
      "/var/folders/_6/fts0bv3j7jjb0263g94q1lbw0000gn/T/ipykernel_4466/937223910.py:7: FutureWarning: suggest_discrete_uniform has been deprecated in v3.0.0. This feature will be removed in v6.0.0. See https://github.com/optuna/optuna/releases/tag/v3.0.0. Use :func:`~optuna.trial.Trial.suggest_float` instead.\n",
      "  'colsample_bytree': trial.suggest_discrete_uniform('colsample_bytree', 0.5, 1, 0.1),\n",
      "/var/folders/_6/fts0bv3j7jjb0263g94q1lbw0000gn/T/ipykernel_4466/937223910.py:8: FutureWarning: suggest_loguniform has been deprecated in v3.0.0. This feature will be removed in v6.0.0. See https://github.com/optuna/optuna/releases/tag/v3.0.0. Use :func:`~optuna.trial.Trial.suggest_float` instead.\n",
      "  'lambda': trial.suggest_loguniform('lambda', 1e-3, 10.0),\n",
      "/var/folders/_6/fts0bv3j7jjb0263g94q1lbw0000gn/T/ipykernel_4466/937223910.py:9: FutureWarning: suggest_loguniform has been deprecated in v3.0.0. This feature will be removed in v6.0.0. See https://github.com/optuna/optuna/releases/tag/v3.0.0. Use :func:`~optuna.trial.Trial.suggest_float` instead.\n",
      "  'alpha': trial.suggest_loguniform('alpha', 1e-3, 10.0),\n"
     ]
    }
   ],
   "source": [
    "study = optuna.create_study(direction='maximize')\n",
    "study.optimize(lambda trial: hyperparameter_tuning_selection(trial, train_X=train_X_rescaled_selected1, train_y=train_y.squeeze(-1), model_name=model_name, sampling_method=sampling_method,scoring=scoring,cv=cv, seed=seed), n_trials=optuna_trials)\n",
    "print('Best trial: score {},\\nparams{}'.format(study.best_trial.value, study.best_trial.params)) "
   ]
  },
  {
   "cell_type": "markdown",
   "metadata": {},
   "source": [
    "## Test with the Best Model"
   ]
  },
  {
   "cell_type": "code",
   "execution_count": null,
   "metadata": {},
   "outputs": [
    {
     "ename": "ValueError",
     "evalue": "No trials are completed yet.",
     "output_type": "error",
     "traceback": [
      "\u001b[0;31m---------------------------------------------------------------------------\u001b[0m",
      "\u001b[0;31mValueError\u001b[0m                                Traceback (most recent call last)",
      "Cell \u001b[0;32mIn[88], line 3\u001b[0m\n\u001b[1;32m      1\u001b[0m \u001b[38;5;66;03m# make final prediction on the test dataset \u001b[39;00m\n\u001b[1;32m      2\u001b[0m \u001b[38;5;28;01mif\u001b[39;00m model_name \u001b[38;5;241m==\u001b[39m \u001b[38;5;124m'\u001b[39m\u001b[38;5;124mXGBoost\u001b[39m\u001b[38;5;124m'\u001b[39m: \n\u001b[0;32m----> 3\u001b[0m     best_model_optuna \u001b[38;5;241m=\u001b[39m XGBClassifier(\u001b[38;5;241m*\u001b[39m\u001b[38;5;241m*\u001b[39m\u001b[43mstudy\u001b[49m\u001b[38;5;241;43m.\u001b[39;49m\u001b[43mbest_trial\u001b[49m\u001b[38;5;241m.\u001b[39mparams)\n\u001b[1;32m      4\u001b[0m \u001b[38;5;28;01melif\u001b[39;00m model_name \u001b[38;5;241m==\u001b[39m \u001b[38;5;124m'\u001b[39m\u001b[38;5;124mRandomForest\u001b[39m\u001b[38;5;124m'\u001b[39m: \n\u001b[1;32m      5\u001b[0m     best_model_optuna \u001b[38;5;241m=\u001b[39m RandomForestClassifier(\u001b[38;5;241m*\u001b[39m\u001b[38;5;241m*\u001b[39mstudy\u001b[38;5;241m.\u001b[39mbest_trial\u001b[38;5;241m.\u001b[39mparams)\n",
      "File \u001b[0;32m/opt/homebrew/Caskroom/miniforge/base/envs/pyRadiomics/lib/python3.10/site-packages/optuna/study/study.py:159\u001b[0m, in \u001b[0;36mStudy.best_trial\u001b[0;34m(self)\u001b[0m\n\u001b[1;32m    <a href='file:///opt/homebrew/Caskroom/miniforge/base/envs/pyRadiomics/lib/python3.10/site-packages/optuna/study/study.py?line=152'>153</a>\u001b[0m \u001b[39mif\u001b[39;00m \u001b[39mself\u001b[39m\u001b[39m.\u001b[39m_is_multi_objective():\n\u001b[1;32m    <a href='file:///opt/homebrew/Caskroom/miniforge/base/envs/pyRadiomics/lib/python3.10/site-packages/optuna/study/study.py?line=153'>154</a>\u001b[0m     \u001b[39mraise\u001b[39;00m \u001b[39mRuntimeError\u001b[39;00m(\n\u001b[1;32m    <a href='file:///opt/homebrew/Caskroom/miniforge/base/envs/pyRadiomics/lib/python3.10/site-packages/optuna/study/study.py?line=154'>155</a>\u001b[0m         \u001b[39m\"\u001b[39m\u001b[39mA single best trial cannot be retrieved from a multi-objective study. Consider \u001b[39m\u001b[39m\"\u001b[39m\n\u001b[1;32m    <a href='file:///opt/homebrew/Caskroom/miniforge/base/envs/pyRadiomics/lib/python3.10/site-packages/optuna/study/study.py?line=155'>156</a>\u001b[0m         \u001b[39m\"\u001b[39m\u001b[39musing Study.best_trials to retrieve a list containing the best trials.\u001b[39m\u001b[39m\"\u001b[39m\n\u001b[1;32m    <a href='file:///opt/homebrew/Caskroom/miniforge/base/envs/pyRadiomics/lib/python3.10/site-packages/optuna/study/study.py?line=156'>157</a>\u001b[0m     )\n\u001b[0;32m--> <a href='file:///opt/homebrew/Caskroom/miniforge/base/envs/pyRadiomics/lib/python3.10/site-packages/optuna/study/study.py?line=158'>159</a>\u001b[0m \u001b[39mreturn\u001b[39;00m copy\u001b[39m.\u001b[39mdeepcopy(\u001b[39mself\u001b[39;49m\u001b[39m.\u001b[39;49m_storage\u001b[39m.\u001b[39;49mget_best_trial(\u001b[39mself\u001b[39;49m\u001b[39m.\u001b[39;49m_study_id))\n",
      "File \u001b[0;32m/opt/homebrew/Caskroom/miniforge/base/envs/pyRadiomics/lib/python3.10/site-packages/optuna/storages/_in_memory.py:250\u001b[0m, in \u001b[0;36mInMemoryStorage.get_best_trial\u001b[0;34m(self, study_id)\u001b[0m\n\u001b[1;32m    <a href='file:///opt/homebrew/Caskroom/miniforge/base/envs/pyRadiomics/lib/python3.10/site-packages/optuna/storages/_in_memory.py?line=246'>247</a>\u001b[0m best_trial_id \u001b[39m=\u001b[39m \u001b[39mself\u001b[39m\u001b[39m.\u001b[39m_studies[study_id]\u001b[39m.\u001b[39mbest_trial_id\n\u001b[1;32m    <a href='file:///opt/homebrew/Caskroom/miniforge/base/envs/pyRadiomics/lib/python3.10/site-packages/optuna/storages/_in_memory.py?line=248'>249</a>\u001b[0m \u001b[39mif\u001b[39;00m best_trial_id \u001b[39mis\u001b[39;00m \u001b[39mNone\u001b[39;00m:\n\u001b[0;32m--> <a href='file:///opt/homebrew/Caskroom/miniforge/base/envs/pyRadiomics/lib/python3.10/site-packages/optuna/storages/_in_memory.py?line=249'>250</a>\u001b[0m     \u001b[39mraise\u001b[39;00m \u001b[39mValueError\u001b[39;00m(\u001b[39m\"\u001b[39m\u001b[39mNo trials are completed yet.\u001b[39m\u001b[39m\"\u001b[39m)\n\u001b[1;32m    <a href='file:///opt/homebrew/Caskroom/miniforge/base/envs/pyRadiomics/lib/python3.10/site-packages/optuna/storages/_in_memory.py?line=250'>251</a>\u001b[0m \u001b[39melif\u001b[39;00m \u001b[39mlen\u001b[39m(\u001b[39mself\u001b[39m\u001b[39m.\u001b[39m_studies[study_id]\u001b[39m.\u001b[39mdirections) \u001b[39m>\u001b[39m \u001b[39m1\u001b[39m:\n\u001b[1;32m    <a href='file:///opt/homebrew/Caskroom/miniforge/base/envs/pyRadiomics/lib/python3.10/site-packages/optuna/storages/_in_memory.py?line=251'>252</a>\u001b[0m     \u001b[39mraise\u001b[39;00m \u001b[39mRuntimeError\u001b[39;00m(\n\u001b[1;32m    <a href='file:///opt/homebrew/Caskroom/miniforge/base/envs/pyRadiomics/lib/python3.10/site-packages/optuna/storages/_in_memory.py?line=252'>253</a>\u001b[0m         \u001b[39m\"\u001b[39m\u001b[39mBest trial can be obtained only for single-objective optimization.\u001b[39m\u001b[39m\"\u001b[39m\n\u001b[1;32m    <a href='file:///opt/homebrew/Caskroom/miniforge/base/envs/pyRadiomics/lib/python3.10/site-packages/optuna/storages/_in_memory.py?line=253'>254</a>\u001b[0m     )\n",
      "\u001b[0;31mValueError\u001b[0m: No trials are completed yet."
     ]
    }
   ],
   "source": [
    "# make final prediction on the test dataset \n",
    "if model_name == 'XGBoost': \n",
    "    best_model_optuna = XGBClassifier(**study.best_trial.params)\n",
    "elif model_name == 'RandomForest': \n",
    "    best_model_optuna = RandomForestClassifier(**study.best_trial.params)\n",
    "elif model_name == 'SVM': \n",
    "    best_model_optuna = svm.SVC(**study.best_trial.params, probability=True)\n",
    "\n",
    "\n",
    "# SFS feature selection\n",
    "sfs = SequentialFeatureSelector(best_model_optuna, n_features_to_select='auto', direction='backward',tol=10)\n",
    "train_X_rescaled_selected2 =sfs.fit_transform(train_X_rescaled_selected1, train_y)\n",
    "\n",
    "\n",
    "# cross validation\n",
    "result = cross_validate(best_model_optuna, train_X_rescaled_selected2, train_y.squeeze(-1), cv=num_cv, scoring=scoring, return_estimator=True) # Stratified Cross Validation is default\n",
    "\n",
    "\n",
    "# getting best model based on the result of cross validation \n",
    "summary = {'ACC':[], 'balanced_ACC':[], 'AUC':[], 'F1':[], 'sensitivity': [], 'specificity':[], 'precision':[]}\n",
    "for result_model in result['estimator']:\n",
    "    test_X_rescaled_selected2 = sfs.transform(test_X_rescaled_selected1)\n",
    "    ACC, balanced_ACC, AUC, F1, sensitivity, specificity, precision = getting_test_result(result_model, test_X_rescaled_selected2, test_y.squeeze(-1))\n",
    "    summary['ACC'].append(ACC)\n",
    "    summary['balanced_ACC'].append(balanced_ACC)\n",
    "    summary['AUC'].append(AUC)\n",
    "    summary['F1'].append(F1)\n",
    "    summary['sensitivity'].append(sensitivity)\n",
    "    summary['specificity'].append(specificity)\n",
    "    summary['precision'].append(precision)\n",
    "    print('The Result from the Best Model\\nAccuracy: {:3f}. Balanced Accuracy: {:3f}. AUC: {:3f}. F1:{:3f}. Sensitivity:{}. Specificity: {}. Precision: {}.'.format(ACC, balanced_ACC, AUC, F1, sensitivity, specificity, precision))\n",
    "\n",
    "\n",
    "# best model \n",
    "best_model = get_best_model(result_summary=summary, estimator=result['estimator'], best_model_metric=best_model_metric)\n",
    "print(best_model)"
   ]
  },
  {
   "cell_type": "markdown",
   "metadata": {},
   "source": [
    "## Visualization the Result from Experiments"
   ]
  },
  {
   "cell_type": "markdown",
   "metadata": {},
   "source": [
    "### Reciever Operating Characteristic (ROC) Curve "
   ]
  },
  {
   "cell_type": "code",
   "execution_count": null,
   "metadata": {},
   "outputs": [
    {
     "data": {
      "image/png": "[encoded data removed]",
      "text/plain": [
       "<Figure size 640x480 with 1 Axes>"
      ]
     },
     "metadata": {},
     "output_type": "display_data"
    }
   ],
   "source": [
    "pred_proba = best_model.predict_proba(test_X_rescaled_selected2)\n",
    "train_proba = best_model.predict_proba(train_X_rescaled_selected2)\n",
    "\n",
    "train_disp = RocCurveDisplay.from_predictions(\n",
    "    train_y,\n",
    "    train_proba[:, 1],\n",
    "    name=\"Train\",\n",
    ")\n",
    "\n",
    "ax = plt.gca()\n",
    "RocCurveDisplay.from_predictions(\n",
    "    test_y,\n",
    "    pred_proba[:, 1],\n",
    "    name=\"Test\",\n",
    "    ax=ax\n",
    ")\n",
    "plt.plot([0, 1], [0, 1], \"k--\", label=\"chance level (AUC = 0.5)\")\n",
    "plt.axis(\"square\")\n",
    "plt.xlabel(\"False Positive Rate\")\n",
    "plt.ylabel(\"True Positive Rate\")\n",
    "plt.title(\"ROC curves:\\nmalignancy vs benign\")\n",
    "plt.legend()\n",
    "plt.show()"
   ]
  },
  {
   "cell_type": "markdown",
   "metadata": {},
   "source": [
    "## Detection Error Tradeoff (DET) Curve "
   ]
  },
  {
   "cell_type": "code",
   "execution_count": null,
   "metadata": {},
   "outputs": [
    {
     "data": {
      "image/png": "[encoded data removed]",
      "text/plain": [
       "<Figure size 640x480 with 1 Axes>"
      ]
     },
     "metadata": {},
     "output_type": "display_data"
    }
   ],
   "source": [
    "pred_proba = best_model.predict_proba(test_X_rescaled_selected2)\n",
    "train_proba = best_model.predict_proba(train_X_rescaled_selected2)\n",
    "\n",
    "train_disp = DetCurveDisplay.from_predictions(\n",
    "    train_y,\n",
    "    train_proba[:, 1],\n",
    "    name=\"Train\",\n",
    ")\n",
    "\n",
    "ax = plt.gca()\n",
    "DetCurveDisplay.from_predictions(\n",
    "    test_y,\n",
    "    pred_proba[:, 1],\n",
    "    name=\"Test\",\n",
    "    ax=ax\n",
    ")\n",
    "plt.axis(\"square\")\n",
    "plt.xlabel(\"False Positive Rate\")\n",
    "plt.ylabel(\"False Negative Rate\")\n",
    "plt.title(\"DET curves:\\nmalignancy vs benign\")\n",
    "plt.legend()\n",
    "plt.show()"
   ]
  },
  {
   "cell_type": "markdown",
   "metadata": {},
   "source": [
    "# Scratch"
   ]
  },
  {
   "cell_type": "code",
   "execution_count": 96,
   "metadata": {},
   "outputs": [
    {
     "ename": "KeyboardInterrupt",
     "evalue": "",
     "output_type": "error",
     "traceback": [
      "\u001b[0;31m---------------------------------------------------------------------------\u001b[0m",
      "\u001b[0;31mKeyboardInterrupt\u001b[0m                         Traceback (most recent call last)",
      "Cell \u001b[0;32mIn[96], line 19\u001b[0m\n\u001b[1;32m     17\u001b[0m check_train_X_rescaled_selected1 \u001b[38;5;241m=\u001b[39m copy\u001b[38;5;241m.\u001b[39mcopy(train_X_rescaled_selected1)\n\u001b[1;32m     18\u001b[0m check_sfs \u001b[38;5;241m=\u001b[39m SequentialFeatureSelector(check_model_optuna, n_features_to_select\u001b[38;5;241m=\u001b[39m\u001b[38;5;124m'\u001b[39m\u001b[38;5;124mauto\u001b[39m\u001b[38;5;124m'\u001b[39m, direction\u001b[38;5;241m=\u001b[39m\u001b[38;5;124m'\u001b[39m\u001b[38;5;124mbackward\u001b[39m\u001b[38;5;124m'\u001b[39m,tol\u001b[38;5;241m=\u001b[39m\u001b[38;5;241m10\u001b[39m)\n\u001b[0;32m---> 19\u001b[0m check_train_X_rescaled_selected2 \u001b[38;5;241m=\u001b[39m\u001b[43mcheck_sfs\u001b[49m\u001b[38;5;241;43m.\u001b[39;49m\u001b[43mfit_transform\u001b[49m\u001b[43m(\u001b[49m\u001b[43mcheck_train_X_rescaled_selected1\u001b[49m\u001b[43m,\u001b[49m\u001b[43m \u001b[49m\u001b[43mtrain_y\u001b[49m\u001b[43m)\u001b[49m\n\u001b[1;32m     20\u001b[0m \u001b[38;5;124;03m\"\"\"\u001b[39;00m\n\u001b[1;32m     21\u001b[0m \u001b[38;5;124;03mcheck_train_X_rescaled_selected2 = train_X_rescaled_selected1\u001b[39;00m\n\u001b[1;32m     22\u001b[0m \u001b[38;5;124;03m\"\"\"\u001b[39;00m\n\u001b[1;32m     24\u001b[0m check_result \u001b[38;5;241m=\u001b[39m cross_validate(check_model_optuna, check_train_X_rescaled_selected2, train_y\u001b[38;5;241m.\u001b[39msqueeze(\u001b[38;5;241m-\u001b[39m\u001b[38;5;241m1\u001b[39m), cv\u001b[38;5;241m=\u001b[39mnum_cv, scoring\u001b[38;5;241m=\u001b[39mscoring, return_estimator\u001b[38;5;241m=\u001b[39m\u001b[38;5;28;01mTrue\u001b[39;00m) \u001b[38;5;66;03m# Stratified Cross Validation is default\u001b[39;00m\n",
      "File \u001b[0;32m/opt/homebrew/Caskroom/miniforge/base/envs/pyRadiomics/lib/python3.10/site-packages/sklearn/utils/_set_output.py:142\u001b[0m, in \u001b[0;36m_wrap_method_output.<locals>.wrapped\u001b[0;34m(self, X, *args, **kwargs)\u001b[0m\n\u001b[1;32m    <a href='file:///opt/homebrew/Caskroom/miniforge/base/envs/pyRadiomics/lib/python3.10/site-packages/sklearn/utils/_set_output.py?line=139'>140</a>\u001b[0m \u001b[39m@wraps\u001b[39m(f)\n\u001b[1;32m    <a href='file:///opt/homebrew/Caskroom/miniforge/base/envs/pyRadiomics/lib/python3.10/site-packages/sklearn/utils/_set_output.py?line=140'>141</a>\u001b[0m \u001b[39mdef\u001b[39;00m \u001b[39mwrapped\u001b[39m(\u001b[39mself\u001b[39m, X, \u001b[39m*\u001b[39margs, \u001b[39m*\u001b[39m\u001b[39m*\u001b[39mkwargs):\n\u001b[0;32m--> <a href='file:///opt/homebrew/Caskroom/miniforge/base/envs/pyRadiomics/lib/python3.10/site-packages/sklearn/utils/_set_output.py?line=141'>142</a>\u001b[0m     data_to_wrap \u001b[39m=\u001b[39m f(\u001b[39mself\u001b[39;49m, X, \u001b[39m*\u001b[39;49margs, \u001b[39m*\u001b[39;49m\u001b[39m*\u001b[39;49mkwargs)\n\u001b[1;32m    <a href='file:///opt/homebrew/Caskroom/miniforge/base/envs/pyRadiomics/lib/python3.10/site-packages/sklearn/utils/_set_output.py?line=142'>143</a>\u001b[0m     \u001b[39mif\u001b[39;00m \u001b[39misinstance\u001b[39m(data_to_wrap, \u001b[39mtuple\u001b[39m):\n\u001b[1;32m    <a href='file:///opt/homebrew/Caskroom/miniforge/base/envs/pyRadiomics/lib/python3.10/site-packages/sklearn/utils/_set_output.py?line=143'>144</a>\u001b[0m         \u001b[39m# only wrap the first output for cross decomposition\u001b[39;00m\n\u001b[1;32m    <a href='file:///opt/homebrew/Caskroom/miniforge/base/envs/pyRadiomics/lib/python3.10/site-packages/sklearn/utils/_set_output.py?line=144'>145</a>\u001b[0m         \u001b[39mreturn\u001b[39;00m (\n\u001b[1;32m    <a href='file:///opt/homebrew/Caskroom/miniforge/base/envs/pyRadiomics/lib/python3.10/site-packages/sklearn/utils/_set_output.py?line=145'>146</a>\u001b[0m             _wrap_data_with_container(method, data_to_wrap[\u001b[39m0\u001b[39m], X, \u001b[39mself\u001b[39m),\n\u001b[1;32m    <a href='file:///opt/homebrew/Caskroom/miniforge/base/envs/pyRadiomics/lib/python3.10/site-packages/sklearn/utils/_set_output.py?line=146'>147</a>\u001b[0m             \u001b[39m*\u001b[39mdata_to_wrap[\u001b[39m1\u001b[39m:],\n\u001b[1;32m    <a href='file:///opt/homebrew/Caskroom/miniforge/base/envs/pyRadiomics/lib/python3.10/site-packages/sklearn/utils/_set_output.py?line=147'>148</a>\u001b[0m         )\n",
      "File \u001b[0;32m/opt/homebrew/Caskroom/miniforge/base/envs/pyRadiomics/lib/python3.10/site-packages/sklearn/base.py:862\u001b[0m, in \u001b[0;36mTransformerMixin.fit_transform\u001b[0;34m(self, X, y, **fit_params)\u001b[0m\n\u001b[1;32m    <a href='file:///opt/homebrew/Caskroom/miniforge/base/envs/pyRadiomics/lib/python3.10/site-packages/sklearn/base.py?line=858'>859</a>\u001b[0m     \u001b[39mreturn\u001b[39;00m \u001b[39mself\u001b[39m\u001b[39m.\u001b[39mfit(X, \u001b[39m*\u001b[39m\u001b[39m*\u001b[39mfit_params)\u001b[39m.\u001b[39mtransform(X)\n\u001b[1;32m    <a href='file:///opt/homebrew/Caskroom/miniforge/base/envs/pyRadiomics/lib/python3.10/site-packages/sklearn/base.py?line=859'>860</a>\u001b[0m \u001b[39melse\u001b[39;00m:\n\u001b[1;32m    <a href='file:///opt/homebrew/Caskroom/miniforge/base/envs/pyRadiomics/lib/python3.10/site-packages/sklearn/base.py?line=860'>861</a>\u001b[0m     \u001b[39m# fit method of arity 2 (supervised transformation)\u001b[39;00m\n\u001b[0;32m--> <a href='file:///opt/homebrew/Caskroom/miniforge/base/envs/pyRadiomics/lib/python3.10/site-packages/sklearn/base.py?line=861'>862</a>\u001b[0m     \u001b[39mreturn\u001b[39;00m \u001b[39mself\u001b[39;49m\u001b[39m.\u001b[39;49mfit(X, y, \u001b[39m*\u001b[39;49m\u001b[39m*\u001b[39;49mfit_params)\u001b[39m.\u001b[39mtransform(X)\n",
      "File \u001b[0;32m/opt/homebrew/Caskroom/miniforge/base/envs/pyRadiomics/lib/python3.10/site-packages/sklearn/feature_selection/_sequential.py:268\u001b[0m, in \u001b[0;36mSequentialFeatureSelector.fit\u001b[0;34m(self, X, y)\u001b[0m\n\u001b[1;32m    <a href='file:///opt/homebrew/Caskroom/miniforge/base/envs/pyRadiomics/lib/python3.10/site-packages/sklearn/feature_selection/_sequential.py?line=265'>266</a>\u001b[0m is_auto_select \u001b[39m=\u001b[39m \u001b[39mself\u001b[39m\u001b[39m.\u001b[39mtol \u001b[39mis\u001b[39;00m \u001b[39mnot\u001b[39;00m \u001b[39mNone\u001b[39;00m \u001b[39mand\u001b[39;00m \u001b[39mself\u001b[39m\u001b[39m.\u001b[39mn_features_to_select \u001b[39m==\u001b[39m \u001b[39m\"\u001b[39m\u001b[39mauto\u001b[39m\u001b[39m\"\u001b[39m\n\u001b[1;32m    <a href='file:///opt/homebrew/Caskroom/miniforge/base/envs/pyRadiomics/lib/python3.10/site-packages/sklearn/feature_selection/_sequential.py?line=266'>267</a>\u001b[0m \u001b[39mfor\u001b[39;00m _ \u001b[39min\u001b[39;00m \u001b[39mrange\u001b[39m(n_iterations):\n\u001b[0;32m--> <a href='file:///opt/homebrew/Caskroom/miniforge/base/envs/pyRadiomics/lib/python3.10/site-packages/sklearn/feature_selection/_sequential.py?line=267'>268</a>\u001b[0m     new_feature_idx, new_score \u001b[39m=\u001b[39m \u001b[39mself\u001b[39;49m\u001b[39m.\u001b[39;49m_get_best_new_feature_score(\n\u001b[1;32m    <a href='file:///opt/homebrew/Caskroom/miniforge/base/envs/pyRadiomics/lib/python3.10/site-packages/sklearn/feature_selection/_sequential.py?line=268'>269</a>\u001b[0m         cloned_estimator, X, y, current_mask\n\u001b[1;32m    <a href='file:///opt/homebrew/Caskroom/miniforge/base/envs/pyRadiomics/lib/python3.10/site-packages/sklearn/feature_selection/_sequential.py?line=269'>270</a>\u001b[0m     )\n\u001b[1;32m    <a href='file:///opt/homebrew/Caskroom/miniforge/base/envs/pyRadiomics/lib/python3.10/site-packages/sklearn/feature_selection/_sequential.py?line=270'>271</a>\u001b[0m     \u001b[39mif\u001b[39;00m is_auto_select \u001b[39mand\u001b[39;00m ((new_score \u001b[39m-\u001b[39m old_score) \u001b[39m<\u001b[39m \u001b[39mself\u001b[39m\u001b[39m.\u001b[39mtol):\n\u001b[1;32m    <a href='file:///opt/homebrew/Caskroom/miniforge/base/envs/pyRadiomics/lib/python3.10/site-packages/sklearn/feature_selection/_sequential.py?line=271'>272</a>\u001b[0m         \u001b[39mbreak\u001b[39;00m\n",
      "File \u001b[0;32m/opt/homebrew/Caskroom/miniforge/base/envs/pyRadiomics/lib/python3.10/site-packages/sklearn/feature_selection/_sequential.py:299\u001b[0m, in \u001b[0;36mSequentialFeatureSelector._get_best_new_feature_score\u001b[0;34m(self, estimator, X, y, current_mask)\u001b[0m\n\u001b[1;32m    <a href='file:///opt/homebrew/Caskroom/miniforge/base/envs/pyRadiomics/lib/python3.10/site-packages/sklearn/feature_selection/_sequential.py?line=296'>297</a>\u001b[0m         candidate_mask \u001b[39m=\u001b[39m \u001b[39m~\u001b[39mcandidate_mask\n\u001b[1;32m    <a href='file:///opt/homebrew/Caskroom/miniforge/base/envs/pyRadiomics/lib/python3.10/site-packages/sklearn/feature_selection/_sequential.py?line=297'>298</a>\u001b[0m     X_new \u001b[39m=\u001b[39m X[:, candidate_mask]\n\u001b[0;32m--> <a href='file:///opt/homebrew/Caskroom/miniforge/base/envs/pyRadiomics/lib/python3.10/site-packages/sklearn/feature_selection/_sequential.py?line=298'>299</a>\u001b[0m     scores[feature_idx] \u001b[39m=\u001b[39m cross_val_score(\n\u001b[1;32m    <a href='file:///opt/homebrew/Caskroom/miniforge/base/envs/pyRadiomics/lib/python3.10/site-packages/sklearn/feature_selection/_sequential.py?line=299'>300</a>\u001b[0m         estimator,\n\u001b[1;32m    <a href='file:///opt/homebrew/Caskroom/miniforge/base/envs/pyRadiomics/lib/python3.10/site-packages/sklearn/feature_selection/_sequential.py?line=300'>301</a>\u001b[0m         X_new,\n\u001b[1;32m    <a href='file:///opt/homebrew/Caskroom/miniforge/base/envs/pyRadiomics/lib/python3.10/site-packages/sklearn/feature_selection/_sequential.py?line=301'>302</a>\u001b[0m         y,\n\u001b[1;32m    <a href='file:///opt/homebrew/Caskroom/miniforge/base/envs/pyRadiomics/lib/python3.10/site-packages/sklearn/feature_selection/_sequential.py?line=302'>303</a>\u001b[0m         cv\u001b[39m=\u001b[39;49m\u001b[39mself\u001b[39;49m\u001b[39m.\u001b[39;49mcv,\n\u001b[1;32m    <a href='file:///opt/homebrew/Caskroom/miniforge/base/envs/pyRadiomics/lib/python3.10/site-packages/sklearn/feature_selection/_sequential.py?line=303'>304</a>\u001b[0m         scoring\u001b[39m=\u001b[39;49m\u001b[39mself\u001b[39;49m\u001b[39m.\u001b[39;49mscoring,\n\u001b[1;32m    <a href='file:///opt/homebrew/Caskroom/miniforge/base/envs/pyRadiomics/lib/python3.10/site-packages/sklearn/feature_selection/_sequential.py?line=304'>305</a>\u001b[0m         n_jobs\u001b[39m=\u001b[39;49m\u001b[39mself\u001b[39;49m\u001b[39m.\u001b[39;49mn_jobs,\n\u001b[1;32m    <a href='file:///opt/homebrew/Caskroom/miniforge/base/envs/pyRadiomics/lib/python3.10/site-packages/sklearn/feature_selection/_sequential.py?line=305'>306</a>\u001b[0m     )\u001b[39m.\u001b[39mmean()\n\u001b[1;32m    <a href='file:///opt/homebrew/Caskroom/miniforge/base/envs/pyRadiomics/lib/python3.10/site-packages/sklearn/feature_selection/_sequential.py?line=306'>307</a>\u001b[0m new_feature_idx \u001b[39m=\u001b[39m \u001b[39mmax\u001b[39m(scores, key\u001b[39m=\u001b[39m\u001b[39mlambda\u001b[39;00m feature_idx: scores[feature_idx])\n\u001b[1;32m    <a href='file:///opt/homebrew/Caskroom/miniforge/base/envs/pyRadiomics/lib/python3.10/site-packages/sklearn/feature_selection/_sequential.py?line=307'>308</a>\u001b[0m \u001b[39mreturn\u001b[39;00m new_feature_idx, scores[new_feature_idx]\n",
      "File \u001b[0;32m/opt/homebrew/Caskroom/miniforge/base/envs/pyRadiomics/lib/python3.10/site-packages/sklearn/model_selection/_validation.py:515\u001b[0m, in \u001b[0;36mcross_val_score\u001b[0;34m(estimator, X, y, groups, scoring, cv, n_jobs, verbose, fit_params, pre_dispatch, error_score)\u001b[0m\n\u001b[1;32m    <a href='file:///opt/homebrew/Caskroom/miniforge/base/envs/pyRadiomics/lib/python3.10/site-packages/sklearn/model_selection/_validation.py?line=511'>512</a>\u001b[0m \u001b[39m# To ensure multimetric format is not supported\u001b[39;00m\n\u001b[1;32m    <a href='file:///opt/homebrew/Caskroom/miniforge/base/envs/pyRadiomics/lib/python3.10/site-packages/sklearn/model_selection/_validation.py?line=512'>513</a>\u001b[0m scorer \u001b[39m=\u001b[39m check_scoring(estimator, scoring\u001b[39m=\u001b[39mscoring)\n\u001b[0;32m--> <a href='file:///opt/homebrew/Caskroom/miniforge/base/envs/pyRadiomics/lib/python3.10/site-packages/sklearn/model_selection/_validation.py?line=514'>515</a>\u001b[0m cv_results \u001b[39m=\u001b[39m cross_validate(\n\u001b[1;32m    <a href='file:///opt/homebrew/Caskroom/miniforge/base/envs/pyRadiomics/lib/python3.10/site-packages/sklearn/model_selection/_validation.py?line=515'>516</a>\u001b[0m     estimator\u001b[39m=\u001b[39;49mestimator,\n\u001b[1;32m    <a href='file:///opt/homebrew/Caskroom/miniforge/base/envs/pyRadiomics/lib/python3.10/site-packages/sklearn/model_selection/_validation.py?line=516'>517</a>\u001b[0m     X\u001b[39m=\u001b[39;49mX,\n\u001b[1;32m    <a href='file:///opt/homebrew/Caskroom/miniforge/base/envs/pyRadiomics/lib/python3.10/site-packages/sklearn/model_selection/_validation.py?line=517'>518</a>\u001b[0m     y\u001b[39m=\u001b[39;49my,\n\u001b[1;32m    <a href='file:///opt/homebrew/Caskroom/miniforge/base/envs/pyRadiomics/lib/python3.10/site-packages/sklearn/model_selection/_validation.py?line=518'>519</a>\u001b[0m     groups\u001b[39m=\u001b[39;49mgroups,\n\u001b[1;32m    <a href='file:///opt/homebrew/Caskroom/miniforge/base/envs/pyRadiomics/lib/python3.10/site-packages/sklearn/model_selection/_validation.py?line=519'>520</a>\u001b[0m     scoring\u001b[39m=\u001b[39;49m{\u001b[39m\"\u001b[39;49m\u001b[39mscore\u001b[39;49m\u001b[39m\"\u001b[39;49m: scorer},\n\u001b[1;32m    <a href='file:///opt/homebrew/Caskroom/miniforge/base/envs/pyRadiomics/lib/python3.10/site-packages/sklearn/model_selection/_validation.py?line=520'>521</a>\u001b[0m     cv\u001b[39m=\u001b[39;49mcv,\n\u001b[1;32m    <a href='file:///opt/homebrew/Caskroom/miniforge/base/envs/pyRadiomics/lib/python3.10/site-packages/sklearn/model_selection/_validation.py?line=521'>522</a>\u001b[0m     n_jobs\u001b[39m=\u001b[39;49mn_jobs,\n\u001b[1;32m    <a href='file:///opt/homebrew/Caskroom/miniforge/base/envs/pyRadiomics/lib/python3.10/site-packages/sklearn/model_selection/_validation.py?line=522'>523</a>\u001b[0m     verbose\u001b[39m=\u001b[39;49mverbose,\n\u001b[1;32m    <a href='file:///opt/homebrew/Caskroom/miniforge/base/envs/pyRadiomics/lib/python3.10/site-packages/sklearn/model_selection/_validation.py?line=523'>524</a>\u001b[0m     fit_params\u001b[39m=\u001b[39;49mfit_params,\n\u001b[1;32m    <a href='file:///opt/homebrew/Caskroom/miniforge/base/envs/pyRadiomics/lib/python3.10/site-packages/sklearn/model_selection/_validation.py?line=524'>525</a>\u001b[0m     pre_dispatch\u001b[39m=\u001b[39;49mpre_dispatch,\n\u001b[1;32m    <a href='file:///opt/homebrew/Caskroom/miniforge/base/envs/pyRadiomics/lib/python3.10/site-packages/sklearn/model_selection/_validation.py?line=525'>526</a>\u001b[0m     error_score\u001b[39m=\u001b[39;49merror_score,\n\u001b[1;32m    <a href='file:///opt/homebrew/Caskroom/miniforge/base/envs/pyRadiomics/lib/python3.10/site-packages/sklearn/model_selection/_validation.py?line=526'>527</a>\u001b[0m )\n\u001b[1;32m    <a href='file:///opt/homebrew/Caskroom/miniforge/base/envs/pyRadiomics/lib/python3.10/site-packages/sklearn/model_selection/_validation.py?line=527'>528</a>\u001b[0m \u001b[39mreturn\u001b[39;00m cv_results[\u001b[39m\"\u001b[39m\u001b[39mtest_score\u001b[39m\u001b[39m\"\u001b[39m]\n",
      "File \u001b[0;32m/opt/homebrew/Caskroom/miniforge/base/envs/pyRadiomics/lib/python3.10/site-packages/sklearn/model_selection/_validation.py:266\u001b[0m, in \u001b[0;36mcross_validate\u001b[0;34m(estimator, X, y, groups, scoring, cv, n_jobs, verbose, fit_params, pre_dispatch, return_train_score, return_estimator, error_score)\u001b[0m\n\u001b[1;32m    <a href='file:///opt/homebrew/Caskroom/miniforge/base/envs/pyRadiomics/lib/python3.10/site-packages/sklearn/model_selection/_validation.py?line=262'>263</a>\u001b[0m \u001b[39m# We clone the estimator to make sure that all the folds are\u001b[39;00m\n\u001b[1;32m    <a href='file:///opt/homebrew/Caskroom/miniforge/base/envs/pyRadiomics/lib/python3.10/site-packages/sklearn/model_selection/_validation.py?line=263'>264</a>\u001b[0m \u001b[39m# independent, and that it is pickle-able.\u001b[39;00m\n\u001b[1;32m    <a href='file:///opt/homebrew/Caskroom/miniforge/base/envs/pyRadiomics/lib/python3.10/site-packages/sklearn/model_selection/_validation.py?line=264'>265</a>\u001b[0m parallel \u001b[39m=\u001b[39m Parallel(n_jobs\u001b[39m=\u001b[39mn_jobs, verbose\u001b[39m=\u001b[39mverbose, pre_dispatch\u001b[39m=\u001b[39mpre_dispatch)\n\u001b[0;32m--> <a href='file:///opt/homebrew/Caskroom/miniforge/base/envs/pyRadiomics/lib/python3.10/site-packages/sklearn/model_selection/_validation.py?line=265'>266</a>\u001b[0m results \u001b[39m=\u001b[39m parallel(\n\u001b[1;32m    <a href='file:///opt/homebrew/Caskroom/miniforge/base/envs/pyRadiomics/lib/python3.10/site-packages/sklearn/model_selection/_validation.py?line=266'>267</a>\u001b[0m     delayed(_fit_and_score)(\n\u001b[1;32m    <a href='file:///opt/homebrew/Caskroom/miniforge/base/envs/pyRadiomics/lib/python3.10/site-packages/sklearn/model_selection/_validation.py?line=267'>268</a>\u001b[0m         clone(estimator),\n\u001b[1;32m    <a href='file:///opt/homebrew/Caskroom/miniforge/base/envs/pyRadiomics/lib/python3.10/site-packages/sklearn/model_selection/_validation.py?line=268'>269</a>\u001b[0m         X,\n\u001b[1;32m    <a href='file:///opt/homebrew/Caskroom/miniforge/base/envs/pyRadiomics/lib/python3.10/site-packages/sklearn/model_selection/_validation.py?line=269'>270</a>\u001b[0m         y,\n\u001b[1;32m    <a href='file:///opt/homebrew/Caskroom/miniforge/base/envs/pyRadiomics/lib/python3.10/site-packages/sklearn/model_selection/_validation.py?line=270'>271</a>\u001b[0m         scorers,\n\u001b[1;32m    <a href='file:///opt/homebrew/Caskroom/miniforge/base/envs/pyRadiomics/lib/python3.10/site-packages/sklearn/model_selection/_validation.py?line=271'>272</a>\u001b[0m         train,\n\u001b[1;32m    <a href='file:///opt/homebrew/Caskroom/miniforge/base/envs/pyRadiomics/lib/python3.10/site-packages/sklearn/model_selection/_validation.py?line=272'>273</a>\u001b[0m         test,\n\u001b[1;32m    <a href='file:///opt/homebrew/Caskroom/miniforge/base/envs/pyRadiomics/lib/python3.10/site-packages/sklearn/model_selection/_validation.py?line=273'>274</a>\u001b[0m         verbose,\n\u001b[1;32m    <a href='file:///opt/homebrew/Caskroom/miniforge/base/envs/pyRadiomics/lib/python3.10/site-packages/sklearn/model_selection/_validation.py?line=274'>275</a>\u001b[0m         \u001b[39mNone\u001b[39;49;00m,\n\u001b[1;32m    <a href='file:///opt/homebrew/Caskroom/miniforge/base/envs/pyRadiomics/lib/python3.10/site-packages/sklearn/model_selection/_validation.py?line=275'>276</a>\u001b[0m         fit_params,\n\u001b[1;32m    <a href='file:///opt/homebrew/Caskroom/miniforge/base/envs/pyRadiomics/lib/python3.10/site-packages/sklearn/model_selection/_validation.py?line=276'>277</a>\u001b[0m         return_train_score\u001b[39m=\u001b[39;49mreturn_train_score,\n\u001b[1;32m    <a href='file:///opt/homebrew/Caskroom/miniforge/base/envs/pyRadiomics/lib/python3.10/site-packages/sklearn/model_selection/_validation.py?line=277'>278</a>\u001b[0m         return_times\u001b[39m=\u001b[39;49m\u001b[39mTrue\u001b[39;49;00m,\n\u001b[1;32m    <a href='file:///opt/homebrew/Caskroom/miniforge/base/envs/pyRadiomics/lib/python3.10/site-packages/sklearn/model_selection/_validation.py?line=278'>279</a>\u001b[0m         return_estimator\u001b[39m=\u001b[39;49mreturn_estimator,\n\u001b[1;32m    <a href='file:///opt/homebrew/Caskroom/miniforge/base/envs/pyRadiomics/lib/python3.10/site-packages/sklearn/model_selection/_validation.py?line=279'>280</a>\u001b[0m         error_score\u001b[39m=\u001b[39;49merror_score,\n\u001b[1;32m    <a href='file:///opt/homebrew/Caskroom/miniforge/base/envs/pyRadiomics/lib/python3.10/site-packages/sklearn/model_selection/_validation.py?line=280'>281</a>\u001b[0m     )\n\u001b[1;32m    <a href='file:///opt/homebrew/Caskroom/miniforge/base/envs/pyRadiomics/lib/python3.10/site-packages/sklearn/model_selection/_validation.py?line=281'>282</a>\u001b[0m     \u001b[39mfor\u001b[39;49;00m train, test \u001b[39min\u001b[39;49;00m cv\u001b[39m.\u001b[39;49msplit(X, y, groups)\n\u001b[1;32m    <a href='file:///opt/homebrew/Caskroom/miniforge/base/envs/pyRadiomics/lib/python3.10/site-packages/sklearn/model_selection/_validation.py?line=282'>283</a>\u001b[0m )\n\u001b[1;32m    <a href='file:///opt/homebrew/Caskroom/miniforge/base/envs/pyRadiomics/lib/python3.10/site-packages/sklearn/model_selection/_validation.py?line=284'>285</a>\u001b[0m _warn_or_raise_about_fit_failures(results, error_score)\n\u001b[1;32m    <a href='file:///opt/homebrew/Caskroom/miniforge/base/envs/pyRadiomics/lib/python3.10/site-packages/sklearn/model_selection/_validation.py?line=286'>287</a>\u001b[0m \u001b[39m# For callabe scoring, the return type is only know after calling. If the\u001b[39;00m\n\u001b[1;32m    <a href='file:///opt/homebrew/Caskroom/miniforge/base/envs/pyRadiomics/lib/python3.10/site-packages/sklearn/model_selection/_validation.py?line=287'>288</a>\u001b[0m \u001b[39m# return type is a dictionary, the error scores can now be inserted with\u001b[39;00m\n\u001b[1;32m    <a href='file:///opt/homebrew/Caskroom/miniforge/base/envs/pyRadiomics/lib/python3.10/site-packages/sklearn/model_selection/_validation.py?line=288'>289</a>\u001b[0m \u001b[39m# the correct key.\u001b[39;00m\n",
      "File \u001b[0;32m/opt/homebrew/Caskroom/miniforge/base/envs/pyRadiomics/lib/python3.10/site-packages/sklearn/utils/parallel.py:63\u001b[0m, in \u001b[0;36mParallel.__call__\u001b[0;34m(self, iterable)\u001b[0m\n\u001b[1;32m     <a href='file:///opt/homebrew/Caskroom/miniforge/base/envs/pyRadiomics/lib/python3.10/site-packages/sklearn/utils/parallel.py?line=57'>58</a>\u001b[0m config \u001b[39m=\u001b[39m get_config()\n\u001b[1;32m     <a href='file:///opt/homebrew/Caskroom/miniforge/base/envs/pyRadiomics/lib/python3.10/site-packages/sklearn/utils/parallel.py?line=58'>59</a>\u001b[0m iterable_with_config \u001b[39m=\u001b[39m (\n\u001b[1;32m     <a href='file:///opt/homebrew/Caskroom/miniforge/base/envs/pyRadiomics/lib/python3.10/site-packages/sklearn/utils/parallel.py?line=59'>60</a>\u001b[0m     (_with_config(delayed_func, config), args, kwargs)\n\u001b[1;32m     <a href='file:///opt/homebrew/Caskroom/miniforge/base/envs/pyRadiomics/lib/python3.10/site-packages/sklearn/utils/parallel.py?line=60'>61</a>\u001b[0m     \u001b[39mfor\u001b[39;00m delayed_func, args, kwargs \u001b[39min\u001b[39;00m iterable\n\u001b[1;32m     <a href='file:///opt/homebrew/Caskroom/miniforge/base/envs/pyRadiomics/lib/python3.10/site-packages/sklearn/utils/parallel.py?line=61'>62</a>\u001b[0m )\n\u001b[0;32m---> <a href='file:///opt/homebrew/Caskroom/miniforge/base/envs/pyRadiomics/lib/python3.10/site-packages/sklearn/utils/parallel.py?line=62'>63</a>\u001b[0m \u001b[39mreturn\u001b[39;00m \u001b[39msuper\u001b[39;49m()\u001b[39m.\u001b[39;49m\u001b[39m__call__\u001b[39;49m(iterable_with_config)\n",
      "File \u001b[0;32m/opt/homebrew/Caskroom/miniforge/base/envs/pyRadiomics/lib/python3.10/site-packages/joblib/parallel.py:1088\u001b[0m, in \u001b[0;36mParallel.__call__\u001b[0;34m(self, iterable)\u001b[0m\n\u001b[1;32m   <a href='file:///opt/homebrew/Caskroom/miniforge/base/envs/pyRadiomics/lib/python3.10/site-packages/joblib/parallel.py?line=1084'>1085</a>\u001b[0m \u001b[39mif\u001b[39;00m \u001b[39mself\u001b[39m\u001b[39m.\u001b[39mdispatch_one_batch(iterator):\n\u001b[1;32m   <a href='file:///opt/homebrew/Caskroom/miniforge/base/envs/pyRadiomics/lib/python3.10/site-packages/joblib/parallel.py?line=1085'>1086</a>\u001b[0m     \u001b[39mself\u001b[39m\u001b[39m.\u001b[39m_iterating \u001b[39m=\u001b[39m \u001b[39mself\u001b[39m\u001b[39m.\u001b[39m_original_iterator \u001b[39mis\u001b[39;00m \u001b[39mnot\u001b[39;00m \u001b[39mNone\u001b[39;00m\n\u001b[0;32m-> <a href='file:///opt/homebrew/Caskroom/miniforge/base/envs/pyRadiomics/lib/python3.10/site-packages/joblib/parallel.py?line=1087'>1088</a>\u001b[0m \u001b[39mwhile\u001b[39;00m \u001b[39mself\u001b[39;49m\u001b[39m.\u001b[39;49mdispatch_one_batch(iterator):\n\u001b[1;32m   <a href='file:///opt/homebrew/Caskroom/miniforge/base/envs/pyRadiomics/lib/python3.10/site-packages/joblib/parallel.py?line=1088'>1089</a>\u001b[0m     \u001b[39mpass\u001b[39;00m\n\u001b[1;32m   <a href='file:///opt/homebrew/Caskroom/miniforge/base/envs/pyRadiomics/lib/python3.10/site-packages/joblib/parallel.py?line=1090'>1091</a>\u001b[0m \u001b[39mif\u001b[39;00m pre_dispatch \u001b[39m==\u001b[39m \u001b[39m\"\u001b[39m\u001b[39mall\u001b[39m\u001b[39m\"\u001b[39m \u001b[39mor\u001b[39;00m n_jobs \u001b[39m==\u001b[39m \u001b[39m1\u001b[39m:\n\u001b[1;32m   <a href='file:///opt/homebrew/Caskroom/miniforge/base/envs/pyRadiomics/lib/python3.10/site-packages/joblib/parallel.py?line=1091'>1092</a>\u001b[0m     \u001b[39m# The iterable was consumed all at once by the above for loop.\u001b[39;00m\n\u001b[1;32m   <a href='file:///opt/homebrew/Caskroom/miniforge/base/envs/pyRadiomics/lib/python3.10/site-packages/joblib/parallel.py?line=1092'>1093</a>\u001b[0m     \u001b[39m# No need to wait for async callbacks to trigger to\u001b[39;00m\n\u001b[1;32m   <a href='file:///opt/homebrew/Caskroom/miniforge/base/envs/pyRadiomics/lib/python3.10/site-packages/joblib/parallel.py?line=1093'>1094</a>\u001b[0m     \u001b[39m# consumption.\u001b[39;00m\n",
      "File \u001b[0;32m/opt/homebrew/Caskroom/miniforge/base/envs/pyRadiomics/lib/python3.10/site-packages/joblib/parallel.py:901\u001b[0m, in \u001b[0;36mParallel.dispatch_one_batch\u001b[0;34m(self, iterator)\u001b[0m\n\u001b[1;32m    <a href='file:///opt/homebrew/Caskroom/miniforge/base/envs/pyRadiomics/lib/python3.10/site-packages/joblib/parallel.py?line=898'>899</a>\u001b[0m     \u001b[39mreturn\u001b[39;00m \u001b[39mFalse\u001b[39;00m\n\u001b[1;32m    <a href='file:///opt/homebrew/Caskroom/miniforge/base/envs/pyRadiomics/lib/python3.10/site-packages/joblib/parallel.py?line=899'>900</a>\u001b[0m \u001b[39melse\u001b[39;00m:\n\u001b[0;32m--> <a href='file:///opt/homebrew/Caskroom/miniforge/base/envs/pyRadiomics/lib/python3.10/site-packages/joblib/parallel.py?line=900'>901</a>\u001b[0m     \u001b[39mself\u001b[39;49m\u001b[39m.\u001b[39;49m_dispatch(tasks)\n\u001b[1;32m    <a href='file:///opt/homebrew/Caskroom/miniforge/base/envs/pyRadiomics/lib/python3.10/site-packages/joblib/parallel.py?line=901'>902</a>\u001b[0m     \u001b[39mreturn\u001b[39;00m \u001b[39mTrue\u001b[39;00m\n",
      "File \u001b[0;32m/opt/homebrew/Caskroom/miniforge/base/envs/pyRadiomics/lib/python3.10/site-packages/joblib/parallel.py:819\u001b[0m, in \u001b[0;36mParallel._dispatch\u001b[0;34m(self, batch)\u001b[0m\n\u001b[1;32m    <a href='file:///opt/homebrew/Caskroom/miniforge/base/envs/pyRadiomics/lib/python3.10/site-packages/joblib/parallel.py?line=816'>817</a>\u001b[0m \u001b[39mwith\u001b[39;00m \u001b[39mself\u001b[39m\u001b[39m.\u001b[39m_lock:\n\u001b[1;32m    <a href='file:///opt/homebrew/Caskroom/miniforge/base/envs/pyRadiomics/lib/python3.10/site-packages/joblib/parallel.py?line=817'>818</a>\u001b[0m     job_idx \u001b[39m=\u001b[39m \u001b[39mlen\u001b[39m(\u001b[39mself\u001b[39m\u001b[39m.\u001b[39m_jobs)\n\u001b[0;32m--> <a href='file:///opt/homebrew/Caskroom/miniforge/base/envs/pyRadiomics/lib/python3.10/site-packages/joblib/parallel.py?line=818'>819</a>\u001b[0m     job \u001b[39m=\u001b[39m \u001b[39mself\u001b[39;49m\u001b[39m.\u001b[39;49m_backend\u001b[39m.\u001b[39;49mapply_async(batch, callback\u001b[39m=\u001b[39;49mcb)\n\u001b[1;32m    <a href='file:///opt/homebrew/Caskroom/miniforge/base/envs/pyRadiomics/lib/python3.10/site-packages/joblib/parallel.py?line=819'>820</a>\u001b[0m     \u001b[39m# A job can complete so quickly than its callback is\u001b[39;00m\n\u001b[1;32m    <a href='file:///opt/homebrew/Caskroom/miniforge/base/envs/pyRadiomics/lib/python3.10/site-packages/joblib/parallel.py?line=820'>821</a>\u001b[0m     \u001b[39m# called before we get here, causing self._jobs to\u001b[39;00m\n\u001b[1;32m    <a href='file:///opt/homebrew/Caskroom/miniforge/base/envs/pyRadiomics/lib/python3.10/site-packages/joblib/parallel.py?line=821'>822</a>\u001b[0m     \u001b[39m# grow. To ensure correct results ordering, .insert is\u001b[39;00m\n\u001b[1;32m    <a href='file:///opt/homebrew/Caskroom/miniforge/base/envs/pyRadiomics/lib/python3.10/site-packages/joblib/parallel.py?line=822'>823</a>\u001b[0m     \u001b[39m# used (rather than .append) in the following line\u001b[39;00m\n\u001b[1;32m    <a href='file:///opt/homebrew/Caskroom/miniforge/base/envs/pyRadiomics/lib/python3.10/site-packages/joblib/parallel.py?line=823'>824</a>\u001b[0m     \u001b[39mself\u001b[39m\u001b[39m.\u001b[39m_jobs\u001b[39m.\u001b[39minsert(job_idx, job)\n",
      "File \u001b[0;32m/opt/homebrew/Caskroom/miniforge/base/envs/pyRadiomics/lib/python3.10/site-packages/joblib/_parallel_backends.py:208\u001b[0m, in \u001b[0;36mSequentialBackend.apply_async\u001b[0;34m(self, func, callback)\u001b[0m\n\u001b[1;32m    <a href='file:///opt/homebrew/Caskroom/miniforge/base/envs/pyRadiomics/lib/python3.10/site-packages/joblib/_parallel_backends.py?line=205'>206</a>\u001b[0m \u001b[39mdef\u001b[39;00m \u001b[39mapply_async\u001b[39m(\u001b[39mself\u001b[39m, func, callback\u001b[39m=\u001b[39m\u001b[39mNone\u001b[39;00m):\n\u001b[1;32m    <a href='file:///opt/homebrew/Caskroom/miniforge/base/envs/pyRadiomics/lib/python3.10/site-packages/joblib/_parallel_backends.py?line=206'>207</a>\u001b[0m \u001b[39m    \u001b[39m\u001b[39m\"\"\"Schedule a func to be run\"\"\"\u001b[39;00m\n\u001b[0;32m--> <a href='file:///opt/homebrew/Caskroom/miniforge/base/envs/pyRadiomics/lib/python3.10/site-packages/joblib/_parallel_backends.py?line=207'>208</a>\u001b[0m     result \u001b[39m=\u001b[39m ImmediateResult(func)\n\u001b[1;32m    <a href='file:///opt/homebrew/Caskroom/miniforge/base/envs/pyRadiomics/lib/python3.10/site-packages/joblib/_parallel_backends.py?line=208'>209</a>\u001b[0m     \u001b[39mif\u001b[39;00m callback:\n\u001b[1;32m    <a href='file:///opt/homebrew/Caskroom/miniforge/base/envs/pyRadiomics/lib/python3.10/site-packages/joblib/_parallel_backends.py?line=209'>210</a>\u001b[0m         callback(result)\n",
      "File \u001b[0;32m/opt/homebrew/Caskroom/miniforge/base/envs/pyRadiomics/lib/python3.10/site-packages/joblib/_parallel_backends.py:597\u001b[0m, in \u001b[0;36mImmediateResult.__init__\u001b[0;34m(self, batch)\u001b[0m\n\u001b[1;32m    <a href='file:///opt/homebrew/Caskroom/miniforge/base/envs/pyRadiomics/lib/python3.10/site-packages/joblib/_parallel_backends.py?line=593'>594</a>\u001b[0m \u001b[39mdef\u001b[39;00m \u001b[39m__init__\u001b[39m(\u001b[39mself\u001b[39m, batch):\n\u001b[1;32m    <a href='file:///opt/homebrew/Caskroom/miniforge/base/envs/pyRadiomics/lib/python3.10/site-packages/joblib/_parallel_backends.py?line=594'>595</a>\u001b[0m     \u001b[39m# Don't delay the application, to avoid keeping the input\u001b[39;00m\n\u001b[1;32m    <a href='file:///opt/homebrew/Caskroom/miniforge/base/envs/pyRadiomics/lib/python3.10/site-packages/joblib/_parallel_backends.py?line=595'>596</a>\u001b[0m     \u001b[39m# arguments in memory\u001b[39;00m\n\u001b[0;32m--> <a href='file:///opt/homebrew/Caskroom/miniforge/base/envs/pyRadiomics/lib/python3.10/site-packages/joblib/_parallel_backends.py?line=596'>597</a>\u001b[0m     \u001b[39mself\u001b[39m\u001b[39m.\u001b[39mresults \u001b[39m=\u001b[39m batch()\n",
      "File \u001b[0;32m/opt/homebrew/Caskroom/miniforge/base/envs/pyRadiomics/lib/python3.10/site-packages/joblib/parallel.py:288\u001b[0m, in \u001b[0;36mBatchedCalls.__call__\u001b[0;34m(self)\u001b[0m\n\u001b[1;32m    <a href='file:///opt/homebrew/Caskroom/miniforge/base/envs/pyRadiomics/lib/python3.10/site-packages/joblib/parallel.py?line=283'>284</a>\u001b[0m \u001b[39mdef\u001b[39;00m \u001b[39m__call__\u001b[39m(\u001b[39mself\u001b[39m):\n\u001b[1;32m    <a href='file:///opt/homebrew/Caskroom/miniforge/base/envs/pyRadiomics/lib/python3.10/site-packages/joblib/parallel.py?line=284'>285</a>\u001b[0m     \u001b[39m# Set the default nested backend to self._backend but do not set the\u001b[39;00m\n\u001b[1;32m    <a href='file:///opt/homebrew/Caskroom/miniforge/base/envs/pyRadiomics/lib/python3.10/site-packages/joblib/parallel.py?line=285'>286</a>\u001b[0m     \u001b[39m# change the default number of processes to -1\u001b[39;00m\n\u001b[1;32m    <a href='file:///opt/homebrew/Caskroom/miniforge/base/envs/pyRadiomics/lib/python3.10/site-packages/joblib/parallel.py?line=286'>287</a>\u001b[0m     \u001b[39mwith\u001b[39;00m parallel_backend(\u001b[39mself\u001b[39m\u001b[39m.\u001b[39m_backend, n_jobs\u001b[39m=\u001b[39m\u001b[39mself\u001b[39m\u001b[39m.\u001b[39m_n_jobs):\n\u001b[0;32m--> <a href='file:///opt/homebrew/Caskroom/miniforge/base/envs/pyRadiomics/lib/python3.10/site-packages/joblib/parallel.py?line=287'>288</a>\u001b[0m         \u001b[39mreturn\u001b[39;00m [func(\u001b[39m*\u001b[39margs, \u001b[39m*\u001b[39m\u001b[39m*\u001b[39mkwargs)\n\u001b[1;32m    <a href='file:///opt/homebrew/Caskroom/miniforge/base/envs/pyRadiomics/lib/python3.10/site-packages/joblib/parallel.py?line=288'>289</a>\u001b[0m                 \u001b[39mfor\u001b[39;00m func, args, kwargs \u001b[39min\u001b[39;00m \u001b[39mself\u001b[39m\u001b[39m.\u001b[39mitems]\n",
      "File \u001b[0;32m/opt/homebrew/Caskroom/miniforge/base/envs/pyRadiomics/lib/python3.10/site-packages/joblib/parallel.py:288\u001b[0m, in \u001b[0;36m<listcomp>\u001b[0;34m(.0)\u001b[0m\n\u001b[1;32m    <a href='file:///opt/homebrew/Caskroom/miniforge/base/envs/pyRadiomics/lib/python3.10/site-packages/joblib/parallel.py?line=283'>284</a>\u001b[0m \u001b[39mdef\u001b[39;00m \u001b[39m__call__\u001b[39m(\u001b[39mself\u001b[39m):\n\u001b[1;32m    <a href='file:///opt/homebrew/Caskroom/miniforge/base/envs/pyRadiomics/lib/python3.10/site-packages/joblib/parallel.py?line=284'>285</a>\u001b[0m     \u001b[39m# Set the default nested backend to self._backend but do not set the\u001b[39;00m\n\u001b[1;32m    <a href='file:///opt/homebrew/Caskroom/miniforge/base/envs/pyRadiomics/lib/python3.10/site-packages/joblib/parallel.py?line=285'>286</a>\u001b[0m     \u001b[39m# change the default number of processes to -1\u001b[39;00m\n\u001b[1;32m    <a href='file:///opt/homebrew/Caskroom/miniforge/base/envs/pyRadiomics/lib/python3.10/site-packages/joblib/parallel.py?line=286'>287</a>\u001b[0m     \u001b[39mwith\u001b[39;00m parallel_backend(\u001b[39mself\u001b[39m\u001b[39m.\u001b[39m_backend, n_jobs\u001b[39m=\u001b[39m\u001b[39mself\u001b[39m\u001b[39m.\u001b[39m_n_jobs):\n\u001b[0;32m--> <a href='file:///opt/homebrew/Caskroom/miniforge/base/envs/pyRadiomics/lib/python3.10/site-packages/joblib/parallel.py?line=287'>288</a>\u001b[0m         \u001b[39mreturn\u001b[39;00m [func(\u001b[39m*\u001b[39;49margs, \u001b[39m*\u001b[39;49m\u001b[39m*\u001b[39;49mkwargs)\n\u001b[1;32m    <a href='file:///opt/homebrew/Caskroom/miniforge/base/envs/pyRadiomics/lib/python3.10/site-packages/joblib/parallel.py?line=288'>289</a>\u001b[0m                 \u001b[39mfor\u001b[39;00m func, args, kwargs \u001b[39min\u001b[39;00m \u001b[39mself\u001b[39m\u001b[39m.\u001b[39mitems]\n",
      "File \u001b[0;32m/opt/homebrew/Caskroom/miniforge/base/envs/pyRadiomics/lib/python3.10/site-packages/sklearn/utils/parallel.py:123\u001b[0m, in \u001b[0;36m_FuncWrapper.__call__\u001b[0;34m(self, *args, **kwargs)\u001b[0m\n\u001b[1;32m    <a href='file:///opt/homebrew/Caskroom/miniforge/base/envs/pyRadiomics/lib/python3.10/site-packages/sklearn/utils/parallel.py?line=120'>121</a>\u001b[0m     config \u001b[39m=\u001b[39m {}\n\u001b[1;32m    <a href='file:///opt/homebrew/Caskroom/miniforge/base/envs/pyRadiomics/lib/python3.10/site-packages/sklearn/utils/parallel.py?line=121'>122</a>\u001b[0m \u001b[39mwith\u001b[39;00m config_context(\u001b[39m*\u001b[39m\u001b[39m*\u001b[39mconfig):\n\u001b[0;32m--> <a href='file:///opt/homebrew/Caskroom/miniforge/base/envs/pyRadiomics/lib/python3.10/site-packages/sklearn/utils/parallel.py?line=122'>123</a>\u001b[0m     \u001b[39mreturn\u001b[39;00m \u001b[39mself\u001b[39;49m\u001b[39m.\u001b[39;49mfunction(\u001b[39m*\u001b[39;49margs, \u001b[39m*\u001b[39;49m\u001b[39m*\u001b[39;49mkwargs)\n",
      "File \u001b[0;32m/opt/homebrew/Caskroom/miniforge/base/envs/pyRadiomics/lib/python3.10/site-packages/sklearn/model_selection/_validation.py:686\u001b[0m, in \u001b[0;36m_fit_and_score\u001b[0;34m(estimator, X, y, scorer, train, test, verbose, parameters, fit_params, return_train_score, return_parameters, return_n_test_samples, return_times, return_estimator, split_progress, candidate_progress, error_score)\u001b[0m\n\u001b[1;32m    <a href='file:///opt/homebrew/Caskroom/miniforge/base/envs/pyRadiomics/lib/python3.10/site-packages/sklearn/model_selection/_validation.py?line=683'>684</a>\u001b[0m         estimator\u001b[39m.\u001b[39mfit(X_train, \u001b[39m*\u001b[39m\u001b[39m*\u001b[39mfit_params)\n\u001b[1;32m    <a href='file:///opt/homebrew/Caskroom/miniforge/base/envs/pyRadiomics/lib/python3.10/site-packages/sklearn/model_selection/_validation.py?line=684'>685</a>\u001b[0m     \u001b[39melse\u001b[39;00m:\n\u001b[0;32m--> <a href='file:///opt/homebrew/Caskroom/miniforge/base/envs/pyRadiomics/lib/python3.10/site-packages/sklearn/model_selection/_validation.py?line=685'>686</a>\u001b[0m         estimator\u001b[39m.\u001b[39;49mfit(X_train, y_train, \u001b[39m*\u001b[39;49m\u001b[39m*\u001b[39;49mfit_params)\n\u001b[1;32m    <a href='file:///opt/homebrew/Caskroom/miniforge/base/envs/pyRadiomics/lib/python3.10/site-packages/sklearn/model_selection/_validation.py?line=687'>688</a>\u001b[0m \u001b[39mexcept\u001b[39;00m \u001b[39mException\u001b[39;00m:\n\u001b[1;32m    <a href='file:///opt/homebrew/Caskroom/miniforge/base/envs/pyRadiomics/lib/python3.10/site-packages/sklearn/model_selection/_validation.py?line=688'>689</a>\u001b[0m     \u001b[39m# Note fit time as time until error\u001b[39;00m\n\u001b[1;32m    <a href='file:///opt/homebrew/Caskroom/miniforge/base/envs/pyRadiomics/lib/python3.10/site-packages/sklearn/model_selection/_validation.py?line=689'>690</a>\u001b[0m     fit_time \u001b[39m=\u001b[39m time\u001b[39m.\u001b[39mtime() \u001b[39m-\u001b[39m start_time\n",
      "File \u001b[0;32m/opt/homebrew/Caskroom/miniforge/base/envs/pyRadiomics/lib/python3.10/site-packages/xgboost/core.py:620\u001b[0m, in \u001b[0;36mrequire_keyword_args.<locals>.throw_if.<locals>.inner_f\u001b[0;34m(*args, **kwargs)\u001b[0m\n\u001b[1;32m    <a href='file:///opt/homebrew/Caskroom/miniforge/base/envs/pyRadiomics/lib/python3.10/site-packages/xgboost/core.py?line=617'>618</a>\u001b[0m \u001b[39mfor\u001b[39;00m k, arg \u001b[39min\u001b[39;00m \u001b[39mzip\u001b[39m(sig\u001b[39m.\u001b[39mparameters, args):\n\u001b[1;32m    <a href='file:///opt/homebrew/Caskroom/miniforge/base/envs/pyRadiomics/lib/python3.10/site-packages/xgboost/core.py?line=618'>619</a>\u001b[0m     kwargs[k] \u001b[39m=\u001b[39m arg\n\u001b[0;32m--> <a href='file:///opt/homebrew/Caskroom/miniforge/base/envs/pyRadiomics/lib/python3.10/site-packages/xgboost/core.py?line=619'>620</a>\u001b[0m \u001b[39mreturn\u001b[39;00m func(\u001b[39m*\u001b[39;49m\u001b[39m*\u001b[39;49mkwargs)\n",
      "File \u001b[0;32m/opt/homebrew/Caskroom/miniforge/base/envs/pyRadiomics/lib/python3.10/site-packages/xgboost/sklearn.py:1516\u001b[0m, in \u001b[0;36mXGBClassifier.fit\u001b[0;34m(self, X, y, sample_weight, base_margin, eval_set, eval_metric, early_stopping_rounds, verbose, xgb_model, sample_weight_eval_set, base_margin_eval_set, feature_weights, callbacks)\u001b[0m\n\u001b[1;32m   <a href='file:///opt/homebrew/Caskroom/miniforge/base/envs/pyRadiomics/lib/python3.10/site-packages/xgboost/sklearn.py?line=1487'>1488</a>\u001b[0m (\n\u001b[1;32m   <a href='file:///opt/homebrew/Caskroom/miniforge/base/envs/pyRadiomics/lib/python3.10/site-packages/xgboost/sklearn.py?line=1488'>1489</a>\u001b[0m     model,\n\u001b[1;32m   <a href='file:///opt/homebrew/Caskroom/miniforge/base/envs/pyRadiomics/lib/python3.10/site-packages/xgboost/sklearn.py?line=1489'>1490</a>\u001b[0m     metric,\n\u001b[0;32m   (...)\u001b[0m\n\u001b[1;32m   <a href='file:///opt/homebrew/Caskroom/miniforge/base/envs/pyRadiomics/lib/python3.10/site-packages/xgboost/sklearn.py?line=1494'>1495</a>\u001b[0m     xgb_model, eval_metric, params, early_stopping_rounds, callbacks\n\u001b[1;32m   <a href='file:///opt/homebrew/Caskroom/miniforge/base/envs/pyRadiomics/lib/python3.10/site-packages/xgboost/sklearn.py?line=1495'>1496</a>\u001b[0m )\n\u001b[1;32m   <a href='file:///opt/homebrew/Caskroom/miniforge/base/envs/pyRadiomics/lib/python3.10/site-packages/xgboost/sklearn.py?line=1496'>1497</a>\u001b[0m train_dmatrix, evals \u001b[39m=\u001b[39m _wrap_evaluation_matrices(\n\u001b[1;32m   <a href='file:///opt/homebrew/Caskroom/miniforge/base/envs/pyRadiomics/lib/python3.10/site-packages/xgboost/sklearn.py?line=1497'>1498</a>\u001b[0m     missing\u001b[39m=\u001b[39m\u001b[39mself\u001b[39m\u001b[39m.\u001b[39mmissing,\n\u001b[1;32m   <a href='file:///opt/homebrew/Caskroom/miniforge/base/envs/pyRadiomics/lib/python3.10/site-packages/xgboost/sklearn.py?line=1498'>1499</a>\u001b[0m     X\u001b[39m=\u001b[39mX,\n\u001b[0;32m   (...)\u001b[0m\n\u001b[1;32m   <a href='file:///opt/homebrew/Caskroom/miniforge/base/envs/pyRadiomics/lib/python3.10/site-packages/xgboost/sklearn.py?line=1512'>1513</a>\u001b[0m     feature_types\u001b[39m=\u001b[39m\u001b[39mself\u001b[39m\u001b[39m.\u001b[39mfeature_types,\n\u001b[1;32m   <a href='file:///opt/homebrew/Caskroom/miniforge/base/envs/pyRadiomics/lib/python3.10/site-packages/xgboost/sklearn.py?line=1513'>1514</a>\u001b[0m )\n\u001b[0;32m-> <a href='file:///opt/homebrew/Caskroom/miniforge/base/envs/pyRadiomics/lib/python3.10/site-packages/xgboost/sklearn.py?line=1515'>1516</a>\u001b[0m \u001b[39mself\u001b[39m\u001b[39m.\u001b[39m_Booster \u001b[39m=\u001b[39m train(\n\u001b[1;32m   <a href='file:///opt/homebrew/Caskroom/miniforge/base/envs/pyRadiomics/lib/python3.10/site-packages/xgboost/sklearn.py?line=1516'>1517</a>\u001b[0m     params,\n\u001b[1;32m   <a href='file:///opt/homebrew/Caskroom/miniforge/base/envs/pyRadiomics/lib/python3.10/site-packages/xgboost/sklearn.py?line=1517'>1518</a>\u001b[0m     train_dmatrix,\n\u001b[1;32m   <a href='file:///opt/homebrew/Caskroom/miniforge/base/envs/pyRadiomics/lib/python3.10/site-packages/xgboost/sklearn.py?line=1518'>1519</a>\u001b[0m     \u001b[39mself\u001b[39;49m\u001b[39m.\u001b[39;49mget_num_boosting_rounds(),\n\u001b[1;32m   <a href='file:///opt/homebrew/Caskroom/miniforge/base/envs/pyRadiomics/lib/python3.10/site-packages/xgboost/sklearn.py?line=1519'>1520</a>\u001b[0m     evals\u001b[39m=\u001b[39;49mevals,\n\u001b[1;32m   <a href='file:///opt/homebrew/Caskroom/miniforge/base/envs/pyRadiomics/lib/python3.10/site-packages/xgboost/sklearn.py?line=1520'>1521</a>\u001b[0m     early_stopping_rounds\u001b[39m=\u001b[39;49mearly_stopping_rounds,\n\u001b[1;32m   <a href='file:///opt/homebrew/Caskroom/miniforge/base/envs/pyRadiomics/lib/python3.10/site-packages/xgboost/sklearn.py?line=1521'>1522</a>\u001b[0m     evals_result\u001b[39m=\u001b[39;49mevals_result,\n\u001b[1;32m   <a href='file:///opt/homebrew/Caskroom/miniforge/base/envs/pyRadiomics/lib/python3.10/site-packages/xgboost/sklearn.py?line=1522'>1523</a>\u001b[0m     obj\u001b[39m=\u001b[39;49mobj,\n\u001b[1;32m   <a href='file:///opt/homebrew/Caskroom/miniforge/base/envs/pyRadiomics/lib/python3.10/site-packages/xgboost/sklearn.py?line=1523'>1524</a>\u001b[0m     custom_metric\u001b[39m=\u001b[39;49mmetric,\n\u001b[1;32m   <a href='file:///opt/homebrew/Caskroom/miniforge/base/envs/pyRadiomics/lib/python3.10/site-packages/xgboost/sklearn.py?line=1524'>1525</a>\u001b[0m     verbose_eval\u001b[39m=\u001b[39;49mverbose,\n\u001b[1;32m   <a href='file:///opt/homebrew/Caskroom/miniforge/base/envs/pyRadiomics/lib/python3.10/site-packages/xgboost/sklearn.py?line=1525'>1526</a>\u001b[0m     xgb_model\u001b[39m=\u001b[39;49mmodel,\n\u001b[1;32m   <a href='file:///opt/homebrew/Caskroom/miniforge/base/envs/pyRadiomics/lib/python3.10/site-packages/xgboost/sklearn.py?line=1526'>1527</a>\u001b[0m     callbacks\u001b[39m=\u001b[39;49mcallbacks,\n\u001b[1;32m   <a href='file:///opt/homebrew/Caskroom/miniforge/base/envs/pyRadiomics/lib/python3.10/site-packages/xgboost/sklearn.py?line=1527'>1528</a>\u001b[0m )\n\u001b[1;32m   <a href='file:///opt/homebrew/Caskroom/miniforge/base/envs/pyRadiomics/lib/python3.10/site-packages/xgboost/sklearn.py?line=1529'>1530</a>\u001b[0m \u001b[39mif\u001b[39;00m \u001b[39mnot\u001b[39;00m callable(\u001b[39mself\u001b[39m\u001b[39m.\u001b[39mobjective):\n\u001b[1;32m   <a href='file:///opt/homebrew/Caskroom/miniforge/base/envs/pyRadiomics/lib/python3.10/site-packages/xgboost/sklearn.py?line=1530'>1531</a>\u001b[0m     \u001b[39mself\u001b[39m\u001b[39m.\u001b[39mobjective \u001b[39m=\u001b[39m params[\u001b[39m\"\u001b[39m\u001b[39mobjective\u001b[39m\u001b[39m\"\u001b[39m]\n",
      "File \u001b[0;32m/opt/homebrew/Caskroom/miniforge/base/envs/pyRadiomics/lib/python3.10/site-packages/xgboost/core.py:620\u001b[0m, in \u001b[0;36mrequire_keyword_args.<locals>.throw_if.<locals>.inner_f\u001b[0;34m(*args, **kwargs)\u001b[0m\n\u001b[1;32m    <a href='file:///opt/homebrew/Caskroom/miniforge/base/envs/pyRadiomics/lib/python3.10/site-packages/xgboost/core.py?line=617'>618</a>\u001b[0m \u001b[39mfor\u001b[39;00m k, arg \u001b[39min\u001b[39;00m \u001b[39mzip\u001b[39m(sig\u001b[39m.\u001b[39mparameters, args):\n\u001b[1;32m    <a href='file:///opt/homebrew/Caskroom/miniforge/base/envs/pyRadiomics/lib/python3.10/site-packages/xgboost/core.py?line=618'>619</a>\u001b[0m     kwargs[k] \u001b[39m=\u001b[39m arg\n\u001b[0;32m--> <a href='file:///opt/homebrew/Caskroom/miniforge/base/envs/pyRadiomics/lib/python3.10/site-packages/xgboost/core.py?line=619'>620</a>\u001b[0m \u001b[39mreturn\u001b[39;00m func(\u001b[39m*\u001b[39;49m\u001b[39m*\u001b[39;49mkwargs)\n",
      "File \u001b[0;32m/opt/homebrew/Caskroom/miniforge/base/envs/pyRadiomics/lib/python3.10/site-packages/xgboost/training.py:185\u001b[0m, in \u001b[0;36mtrain\u001b[0;34m(params, dtrain, num_boost_round, evals, obj, feval, maximize, early_stopping_rounds, evals_result, verbose_eval, xgb_model, callbacks, custom_metric)\u001b[0m\n\u001b[1;32m    <a href='file:///opt/homebrew/Caskroom/miniforge/base/envs/pyRadiomics/lib/python3.10/site-packages/xgboost/training.py?line=182'>183</a>\u001b[0m \u001b[39mif\u001b[39;00m cb_container\u001b[39m.\u001b[39mbefore_iteration(bst, i, dtrain, evals):\n\u001b[1;32m    <a href='file:///opt/homebrew/Caskroom/miniforge/base/envs/pyRadiomics/lib/python3.10/site-packages/xgboost/training.py?line=183'>184</a>\u001b[0m     \u001b[39mbreak\u001b[39;00m\n\u001b[0;32m--> <a href='file:///opt/homebrew/Caskroom/miniforge/base/envs/pyRadiomics/lib/python3.10/site-packages/xgboost/training.py?line=184'>185</a>\u001b[0m bst\u001b[39m.\u001b[39;49mupdate(dtrain, i, obj)\n\u001b[1;32m    <a href='file:///opt/homebrew/Caskroom/miniforge/base/envs/pyRadiomics/lib/python3.10/site-packages/xgboost/training.py?line=185'>186</a>\u001b[0m \u001b[39mif\u001b[39;00m cb_container\u001b[39m.\u001b[39mafter_iteration(bst, i, dtrain, evals):\n\u001b[1;32m    <a href='file:///opt/homebrew/Caskroom/miniforge/base/envs/pyRadiomics/lib/python3.10/site-packages/xgboost/training.py?line=186'>187</a>\u001b[0m     \u001b[39mbreak\u001b[39;00m\n",
      "File \u001b[0;32m/opt/homebrew/Caskroom/miniforge/base/envs/pyRadiomics/lib/python3.10/site-packages/xgboost/core.py:1918\u001b[0m, in \u001b[0;36mBooster.update\u001b[0;34m(self, dtrain, iteration, fobj)\u001b[0m\n\u001b[1;32m   <a href='file:///opt/homebrew/Caskroom/miniforge/base/envs/pyRadiomics/lib/python3.10/site-packages/xgboost/core.py?line=1914'>1915</a>\u001b[0m \u001b[39mself\u001b[39m\u001b[39m.\u001b[39m_validate_dmatrix_features(dtrain)\n\u001b[1;32m   <a href='file:///opt/homebrew/Caskroom/miniforge/base/envs/pyRadiomics/lib/python3.10/site-packages/xgboost/core.py?line=1916'>1917</a>\u001b[0m \u001b[39mif\u001b[39;00m fobj \u001b[39mis\u001b[39;00m \u001b[39mNone\u001b[39;00m:\n\u001b[0;32m-> <a href='file:///opt/homebrew/Caskroom/miniforge/base/envs/pyRadiomics/lib/python3.10/site-packages/xgboost/core.py?line=1917'>1918</a>\u001b[0m     _check_call(_LIB\u001b[39m.\u001b[39;49mXGBoosterUpdateOneIter(\u001b[39mself\u001b[39;49m\u001b[39m.\u001b[39;49mhandle,\n\u001b[1;32m   <a href='file:///opt/homebrew/Caskroom/miniforge/base/envs/pyRadiomics/lib/python3.10/site-packages/xgboost/core.py?line=1918'>1919</a>\u001b[0m                                             ctypes\u001b[39m.\u001b[39;49mc_int(iteration),\n\u001b[1;32m   <a href='file:///opt/homebrew/Caskroom/miniforge/base/envs/pyRadiomics/lib/python3.10/site-packages/xgboost/core.py?line=1919'>1920</a>\u001b[0m                                             dtrain\u001b[39m.\u001b[39;49mhandle))\n\u001b[1;32m   <a href='file:///opt/homebrew/Caskroom/miniforge/base/envs/pyRadiomics/lib/python3.10/site-packages/xgboost/core.py?line=1920'>1921</a>\u001b[0m \u001b[39melse\u001b[39;00m:\n\u001b[1;32m   <a href='file:///opt/homebrew/Caskroom/miniforge/base/envs/pyRadiomics/lib/python3.10/site-packages/xgboost/core.py?line=1921'>1922</a>\u001b[0m     pred \u001b[39m=\u001b[39m \u001b[39mself\u001b[39m\u001b[39m.\u001b[39mpredict(dtrain, output_margin\u001b[39m=\u001b[39m\u001b[39mTrue\u001b[39;00m, training\u001b[39m=\u001b[39m\u001b[39mTrue\u001b[39;00m)\n",
      "\u001b[0;31mKeyboardInterrupt\u001b[0m: "
     ]
    }
   ],
   "source": [
    "\n",
    "\n",
    "params = {'n_estimators': 47, 'max_depth': 7, 'gamma': 5.910530898532755, 'colsample_bytree': 0.7, 'lambda': 1.0857325635888906, 'alpha': 0.16600992085587696, 'subsample': 0.7}\n",
    "# make final prediction on the test dataset \n",
    "if model_name == 'XGBoost': \n",
    "    check_model_optuna = XGBClassifier(**params)\n",
    "elif model_name == 'RandomForest': \n",
    "    check_model_optuna = RandomForestClassifier(**params)\n",
    "elif model_name == 'SVM': \n",
    "    check_model_optuna = svm.SVC(**params, probability=True)\n",
    "\n",
    "# re-fitting RFCEV and classifier with the best parameters selected by optuna\n",
    "#rfecv = RFECV(estimator=check_model_optuna, step=1, cv=cv, min_features_to_select=min_features_to_select, n_jobs=n_process, scoring='roc_auc')\n",
    "#rfecv.fit(train_X_rescaled_selected1, train_y.squeeze(-1))\n",
    "#check_train_X_rescaled_selected2 = rfecv.transform(train_X_rescaled_selected1)\n",
    "#check_result = cross_validate(check_model_optuna, train_X_rescaled_selected1, train_y.squeeze(-1), cv=num_cv, scoring=make_scorer(custom_scorer), return_estimator=True) # Stratified Cross Validation is default\n",
    "\n",
    "###### check_SFS feature selection\n",
    "check_train_X_rescaled_selected1 = copy.copy(train_X_rescaled_selected1)\n",
    "check_sfs = SequentialFeatureSelector(check_model_optuna, n_features_to_select='auto', direction='backward',tol=10)\n",
    "check_train_X_rescaled_selected2 =check_sfs.fit_transform(check_train_X_rescaled_selected1, train_y)\n",
    "\"\"\"\n",
    "check_train_X_rescaled_selected2 = train_X_rescaled_selected1\n",
    "\"\"\"\n",
    "\n",
    "check_result = cross_validate(check_model_optuna, check_train_X_rescaled_selected2, train_y.squeeze(-1), cv=num_cv, scoring=scoring, return_estimator=True) # Stratified Cross Validation is default\n",
    "\n",
    "\n",
    "\n",
    "# getting best model based on the check_result of cross validation \n",
    "#check_model = selecting_check_model(check_result)\n",
    "\n",
    "for check_model in check_result['estimator']:\n",
    "    # getting check_results from test set \n",
    "    #check_test_X_rescaled_selected1 = selector.transform(check_test_X_rescaled_selected)\n",
    "    #### check_SFS feature selection\n",
    "    check_test_X_rescaled_selected1 = copy.copy(test_X_rescaled_selected1)\n",
    "    check_test_X_rescaled_selected2 = check_sfs.transform(check_test_X_rescaled_selected1)\n",
    "    \"\"\"\n",
    "    check_test_X_rescaled_selected2 = check_test_X_rescaled_selected1\n",
    "    \"\"\"\n",
    "    #check_test_X_rescaled_selected2 = rfecv.transform(check_test_X_rescaled_selected1)\n",
    "    #ACC, AUC, F1 = getting_test_check_result(check_model, check_test_X_rescaled_selected2, test_y)\n",
    "\n",
    "    check_ACC, check_balanced_ACC, check_AUC, check_F1, check_sensitivity_specificity, check_precision = getting_test_result(check_model, check_test_X_rescaled_selected2, test_y.squeeze(-1))\n",
    "    print('The check_Result from the Best Model\\nAccuracy: {:3f}. Balanced Accuracy: {:3f}. AUC: {:3f}. F1:{:3f}. Sensitivity/Specificity: {}. Precision: {}'.format(check_ACC, check_balanced_ACC, check_AUC, check_F1, check_sensitivity_specificity, check_precision))\n",
    "\n"
   ]
  },
  {
   "cell_type": "code",
   "execution_count": null,
   "metadata": {},
   "outputs": [],
   "source": []
  }
 ],
 "metadata": {
  "interpreter": {
   "hash": "cffdcda9734f477899aa031e409c4b11b6a8383503982ac3583480dbf71c18cd"
  },
  "kernelspec": {
   "display_name": "pyRadiomics",
   "language": "python",
   "name": "python3"
  },
  "language_info": {
   "codemirror_mode": {
    "name": "ipython",
    "version": 3
   },
   "file_extension": ".py",
   "mimetype": "text/x-python",
   "name": "python",
   "nbconvert_exporter": "python",
   "pygments_lexer": "ipython3",
   "version": "3.10.8"
  },
  "orig_nbformat": 4
 },
 "nbformat": 4,
 "nbformat_minor": 2
}
